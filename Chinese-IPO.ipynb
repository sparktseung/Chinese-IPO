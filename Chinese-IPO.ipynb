{
 "cells": [
  {
   "cell_type": "markdown",
   "metadata": {},
   "source": [
    "# Can you make big money on Chinese stock IPO?"
   ]
  },
  {
   "cell_type": "markdown",
   "metadata": {},
   "source": [
    "**Author**: [Spark Tseung](https://sparktseung.com)\n",
    "\n",
    "**Source Code**: [github](https://github.com/sparktseung/Chinese-IPO) \n",
    "\n",
    "**Last Modified**: Sept 12, 2020"
   ]
  },
  {
   "cell_type": "markdown",
   "metadata": {},
   "source": [
    "## Introduction\n",
    "\n",
    "About two years ago, I started to have some extra money for investing. After a few trial-and-errors, I have resorted to regular purchase of a low-fee Exchange Traded Fund (ETF) tracking the US market index - the cost of \"beating the market\" just seems too high, and an average of 7~8% per year is already a very decent return.\n",
    "\n",
    "I have been all content with that until a friend of mine mentioned the unbelievably high return on purchasing the Initial Public Offerings (IPO) of Chinese stocks. He claimed that, if you are lucky enough to be assigned some units during an IPO, the return on the first day of public trading is quite significant (e.g. 100%+). However, it is generally quite difficult to obtain those IPOs in the first place, so it is almost like buying a lottery.\n",
    "\n",
    "Unfamiliar with, and intentially staying away from, the Chinese stock market, I was quite suspicious at first, but a quick search on the Internet has my confidence shaken. Therefore, being a student in statistics, I naturally started to dig into a pool of data, trying to find out if one can make some big money from Chinese stock IPOs. More specifically, I would like to see if one can make profits by obtaining stocks from IPOs and then selling them shortly after the public trading starts."
   ]
  },
  {
   "cell_type": "markdown",
   "metadata": {},
   "source": [
    "## Getting the data\n",
    "\n",
    "There are not a lot of data source available for the issue prices of IPOs in the Chinese market. The best I can find is the `akshare` package in Python, which in turn pulls IPO data from [eastmoney](http://data.eastmoney.com/xg/xg/dxsyl.html), a Chinese stock broker. They have three datasets of IPO, `sh` for (mostly) bluechip stocks traded on the Shanghai Stock Exchange, and `zxb`/`cyb` for smaller companies traded on the Shenzhen Stock Exchange."
   ]
  },
  {
   "cell_type": "code",
   "execution_count": 76,
   "metadata": {
    "tags": [
     "hidden_cell"
    ]
   },
   "outputs": [],
   "source": [
    "# Load required packages\n",
    "import akshare as ak\n",
    "import numpy as np\n",
    "import pandas as pd\n",
    "import datetime as dt\n",
    "import matplotlib.pyplot as plt\n",
    "%matplotlib inline"
   ]
  },
  {
   "cell_type": "code",
   "execution_count": 2,
   "metadata": {
    "tags": []
   },
   "outputs": [
    {
     "output_type": "stream",
     "name": "stderr",
     "text": "100%|██████████| 15/15 [00:07<00:00,  2.11it/s]\n100%|██████████| 13/13 [00:05<00:00,  2.42it/s]\n100%|██████████| 17/17 [00:07<00:00,  2.34it/s]\n"
    }
   ],
   "source": [
    "# IPO data for stocks traded on Shanghai Stock Exchange\n",
    "# Mostly blue-chip stocks\n",
    "ipo_shzb_df = ak.stock_em_dxsyl(market=\"上海主板\")\n",
    "# IPO data for stocks traded on Shenzhen Stock Exchange\n",
    "# Mostly smaller companies\n",
    "ipo_szzx_df = ak.stock_em_dxsyl(market=\"中小板\")\n",
    "ipo_szcy_df = ak.stock_em_dxsyl(market=\"创业板\")"
   ]
  },
  {
   "source": [
    "The first few rows of the data set are shown below. After a quick view of the website tells that they have IPO data starting from year 2010. I will combine the three datasets, and change the column names in English. Since the datasets are frequently updated, we will focus on the decade of 2010-2019 only."
   ],
   "cell_type": "markdown",
   "metadata": {}
  },
  {
   "cell_type": "code",
   "execution_count": 3,
   "metadata": {
    "tags": []
   },
   "outputs": [
    {
     "output_type": "execute_result",
     "data": {
      "text/plain": "     股票代码  股票简称    发行价    最新价  网上发行中签率      网上有效申购股数  网上有效申购户数 网上超额认购倍数  \\\n0  605358  N立昂微   4.92   7.08  0.03197  114224888000  15990041  3127.56   \n1  605009   N豪悦  62.26  89.65  0.02382  100758868000  15783007  4197.76   \n2  605003  众望布艺  25.75  31.38  0.02346   84382582000  15347203  4261.75   \n\n      网下配售中签率     网下有效申购股数 网下有效申购户数  网下配售认购倍数     总发行数量    开盘溢价    首日涨幅  打新收益  \\\n0  0.00446855  90812500000     9112  22378.63  40580000  0.1992  0.4390         \n1  0.01456494  18311100000     9316    6865.8  26670000  0.2000  0.4399         \n2  0.01675539  13130100000     8208   5968.23  22000000  0.4400  0.4400  0.01   \n\n         上市日期  市场  \n0  2020-09-11  sh  \n1  2020-09-11  sh  \n2  2020-09-08  sh  ",
      "text/html": "<div>\n<style scoped>\n    .dataframe tbody tr th:only-of-type {\n        vertical-align: middle;\n    }\n\n    .dataframe tbody tr th {\n        vertical-align: top;\n    }\n\n    .dataframe thead th {\n        text-align: right;\n    }\n</style>\n<table border=\"1\" class=\"dataframe\">\n  <thead>\n    <tr style=\"text-align: right;\">\n      <th></th>\n      <th>股票代码</th>\n      <th>股票简称</th>\n      <th>发行价</th>\n      <th>最新价</th>\n      <th>网上发行中签率</th>\n      <th>网上有效申购股数</th>\n      <th>网上有效申购户数</th>\n      <th>网上超额认购倍数</th>\n      <th>网下配售中签率</th>\n      <th>网下有效申购股数</th>\n      <th>网下有效申购户数</th>\n      <th>网下配售认购倍数</th>\n      <th>总发行数量</th>\n      <th>开盘溢价</th>\n      <th>首日涨幅</th>\n      <th>打新收益</th>\n      <th>上市日期</th>\n      <th>市场</th>\n    </tr>\n  </thead>\n  <tbody>\n    <tr>\n      <th>0</th>\n      <td>605358</td>\n      <td>N立昂微</td>\n      <td>4.92</td>\n      <td>7.08</td>\n      <td>0.03197</td>\n      <td>114224888000</td>\n      <td>15990041</td>\n      <td>3127.56</td>\n      <td>0.00446855</td>\n      <td>90812500000</td>\n      <td>9112</td>\n      <td>22378.63</td>\n      <td>40580000</td>\n      <td>0.1992</td>\n      <td>0.4390</td>\n      <td></td>\n      <td>2020-09-11</td>\n      <td>sh</td>\n    </tr>\n    <tr>\n      <th>1</th>\n      <td>605009</td>\n      <td>N豪悦</td>\n      <td>62.26</td>\n      <td>89.65</td>\n      <td>0.02382</td>\n      <td>100758868000</td>\n      <td>15783007</td>\n      <td>4197.76</td>\n      <td>0.01456494</td>\n      <td>18311100000</td>\n      <td>9316</td>\n      <td>6865.8</td>\n      <td>26670000</td>\n      <td>0.2000</td>\n      <td>0.4399</td>\n      <td></td>\n      <td>2020-09-11</td>\n      <td>sh</td>\n    </tr>\n    <tr>\n      <th>2</th>\n      <td>605003</td>\n      <td>众望布艺</td>\n      <td>25.75</td>\n      <td>31.38</td>\n      <td>0.02346</td>\n      <td>84382582000</td>\n      <td>15347203</td>\n      <td>4261.75</td>\n      <td>0.01675539</td>\n      <td>13130100000</td>\n      <td>8208</td>\n      <td>5968.23</td>\n      <td>22000000</td>\n      <td>0.4400</td>\n      <td>0.4400</td>\n      <td>0.01</td>\n      <td>2020-09-08</td>\n      <td>sh</td>\n    </tr>\n  </tbody>\n</table>\n</div>"
     },
     "metadata": {},
     "execution_count": 3
    }
   ],
   "source": [
    "ipo_shzb_df.head(3)"
   ]
  },
  {
   "cell_type": "code",
   "execution_count": 120,
   "metadata": {
    "tags": [
     "hidden_cell"
    ]
   },
   "outputs": [],
   "source": [
    "# Combine three datasets\n",
    "ipo_df = pd.concat([ipo_shzb_df, ipo_szzx_df, ipo_szcy_df], ignore_index = True, sort = False)\n",
    "# Rename columns in English\n",
    "ipo_df.rename(columns={\"股票代码\": \"ticker\", \"股票简称\": \"name\",\n",
    "                       \"发行价\": \"price_issue\", \"最新价\": \"price_latest\",\n",
    "                       \"网上发行中签率\": \"prob_online\", \"网上有效申购股数\": \"sub_size_online\",\n",
    "                       \"网上有效申购户数\": \"subs_online\",\"网上超额认购倍数\": \"over_online\",\n",
    "                       \"网下配售中签率\": \"prob_offline\", \"网下有效申购股数\": \"sub_size_offline\",\n",
    "                       \"网下有效申购户数\": \"subs_offline\",\"网下配售认购倍数\": \"over_offline\",\n",
    "                       \"总发行数量\": \"size_total\", \n",
    "                       \"开盘溢价\": \"list_premium\", \"首日涨幅\": \"return_firstday\", \n",
    "                       \"打新收益\": \"return_ipo\", \n",
    "                       \"上市日期\": \"list_date\", \"市场\": \"market\"\n",
    "                       }, inplace = True)\n",
    "# The raw data are not in numeric\n",
    "for i in range(2, 15):\n",
    "    ipo_df.iloc[:, i] = pd.to_numeric(ipo_df.iloc[:, i])\n",
    "# Filter by date: 2010-2019\n",
    "ipo_df['list_date'] = pd.to_datetime(ipo_df['list_date'])\n",
    "drop_idx = ipo_df[ (ipo_df['list_date'] > dt.datetime(2019, 12, 31)) ].index\n",
    "ipo_df.drop(drop_idx , inplace = True)\n",
    "ipo_df.dropna(inplace = True)"
   ]
  },
  {
   "cell_type": "markdown",
   "metadata": {},
   "source": [
    "The combined and cleaned data set has 1942 records, and the variables are described as follows.\n",
    "\n",
    "| Chinese          | English          | Description                                                                               |\n",
    "|:------------------|:------------------|:-------------------------------------------------------------------------------------------|\n",
    "| 股票代码         | ticker           | Ticker of the stock                                                                       |\n",
    "| 股票简称         | name             | Name of the company                                                                       |\n",
    "| 发行价           | price_issue      | Issue price (in CNY) of IPO, i.e. how much you pay per share before it goes public        |\n",
    "| 最新价           | price_latest     | Latest trading price (in CNY)                                                             |\n",
    "| 网上发行中签率   | prob_online      | Probability (in %) of successfully getting some IPO stocks, online application            |\n",
    "| 网上有效申购股数 | sub_size_online  | Number of shares requested by potential IPO buyers, online application                    |\n",
    "| 网上有效申购户数 | subs_online      | Number of potential IPO buyers, online application                                        |\n",
    "| 网上超额认购倍数 | over_online      | How many people are competing for one successful online application, i.e. 1/prob_online   |\n",
    "| 网下发行中签率   | prob_offline     | Probability (in %) of successfully getting some IPO stocks, offline application           |\n",
    "| 网下有效申购股数 | sub_size_offline | Number of shares requested by potential IPO buyers, offline application                   |\n",
    "| 网下有效申购户数 | subs_offline     | Number of potential IPO buyers, offline application                                       |\n",
    "| 网下超额认购倍数 | subs_offline     | How many people are competing for one successful offline application, i.e. 1/prob_offline |\n",
    "| 总发行数量       | size_total       | Total number of shares issued in IPO                                                      |\n",
    "| 开盘溢价         | list_premium     | Premium (in decimal) of first-day trading, i.e. (first-day price / IPO price) - 1         |\n",
    "| 首日涨幅         | return_firstday  | Price increase (in decimal) of first-day trading, i.e. (close/open) - 1 on the first day  |\n",
    "| 打新收益         | return_ipo       | Return on IPO (according to some formula by eastmoney)                                    |\n",
    "| 上市日期         | list_date        | Date of IPO                                                                               |\n",
    "| 市场             | market           | Market of IPO                                                                             |"
   ]
  },
  {
   "source": [
    "## A first look at the data\n",
    "\n",
    "Let's have a look at one particular stock with ticker number 603109, which was first publicly traded on the Shanghai Stock Exchange (`market`) on the last day of 2019 (`list_date`). Before that, you can buy it at 18.38 per share (`price_issue`) by making an application, and its latest trading price is 26.48 (`price_latest`).\n",
    "\n",
    "An average investor can get involved in its IPO through either online or offline application. For online applications, there are 12,131,674 potential subscribers who files an application (`subs_online`), and they are interested in buying 93,892,836,000 shares in total (`sub_size_online`). However, the demand is much higher than the supply, since it turns out that only 0.03515% of them (`prob_online`) actually ended up successfully getting some shares. In other words, the odds of a successful application is 1 to 2,284.98 (`over_online`). The same set of numbers for offline application are also provided. Despite a large number of interested investors, only 36,670,000 shares (`size_total`) were eventually issued.\n",
    "\n",
    "For those who managed to get some IPO shares, they were in for a lucky treat. On the first day of trading, the stock opens at a premium of 20.02% (`list_premium`), or 22.06 per share, and it closed 44.02% (`return_firstday`) above the IPO price. The variable `return_ipo` is calculated by the eastmoney website according to their formula, so I will ignore it for the moment."
   ],
   "cell_type": "markdown",
   "metadata": {}
  },
  {
   "cell_type": "code",
   "execution_count": 63,
   "metadata": {},
   "outputs": [
    {
     "output_type": "execute_result",
     "data": {
      "text/plain": "    ticker  name  price_issue  price_latest  prob_online  sub_size_online  \\\n54  603109  神驰机电        18.38         26.48      0.03515      93892836000   \n\n    subs_online  over_online  prob_offline  sub_size_offline  subs_offline  \\\n54     12131674      2844.98      0.011563       31714300000          7312   \n\n    over_offline  size_total  list_premium  return_firstday return_ipo  \\\n54       8648.57    36670000        0.2002           0.4402       0.03   \n\n    list_date market  \n54 2019-12-31     sh  ",
      "text/html": "<div>\n<style scoped>\n    .dataframe tbody tr th:only-of-type {\n        vertical-align: middle;\n    }\n\n    .dataframe tbody tr th {\n        vertical-align: top;\n    }\n\n    .dataframe thead th {\n        text-align: right;\n    }\n</style>\n<table border=\"1\" class=\"dataframe\">\n  <thead>\n    <tr style=\"text-align: right;\">\n      <th></th>\n      <th>ticker</th>\n      <th>name</th>\n      <th>price_issue</th>\n      <th>price_latest</th>\n      <th>prob_online</th>\n      <th>sub_size_online</th>\n      <th>subs_online</th>\n      <th>over_online</th>\n      <th>prob_offline</th>\n      <th>sub_size_offline</th>\n      <th>subs_offline</th>\n      <th>over_offline</th>\n      <th>size_total</th>\n      <th>list_premium</th>\n      <th>return_firstday</th>\n      <th>return_ipo</th>\n      <th>list_date</th>\n      <th>market</th>\n    </tr>\n  </thead>\n  <tbody>\n    <tr>\n      <th>54</th>\n      <td>603109</td>\n      <td>神驰机电</td>\n      <td>18.38</td>\n      <td>26.48</td>\n      <td>0.03515</td>\n      <td>93892836000</td>\n      <td>12131674</td>\n      <td>2844.98</td>\n      <td>0.011563</td>\n      <td>31714300000</td>\n      <td>7312</td>\n      <td>8648.57</td>\n      <td>36670000</td>\n      <td>0.2002</td>\n      <td>0.4402</td>\n      <td>0.03</td>\n      <td>2019-12-31</td>\n      <td>sh</td>\n    </tr>\n  </tbody>\n</table>\n</div>"
     },
     "metadata": {},
     "execution_count": 63
    }
   ],
   "source": [
    "ipo_df.head(1)"
   ]
  },
  {
   "source": [
    "## How hard is it to get some IPO shares?\n",
    "\n",
    "Just after a first glance, we can already tell the probability of succesfully getting IPO shares is quite low. Let's look at a number of summary statistics and do some plotting."
   ],
   "cell_type": "markdown",
   "metadata": {}
  },
  {
   "cell_type": "code",
   "execution_count": 121,
   "metadata": {},
   "outputs": [],
   "source": [
    "# Aggregate online and offline successful rate\n",
    "ipo_df['prob_all'] = ( ipo_df['prob_online'] * ipo_df['subs_online'] + ipo_df['prob_offline'] * ipo_df['subs_offline'] ) / (ipo_df['subs_online'] + ipo_df['subs_offline'] )"
   ]
  },
  {
   "cell_type": "code",
   "execution_count": 122,
   "metadata": {},
   "outputs": [
    {
     "output_type": "execute_result",
     "data": {
      "text/plain": "count    1942.000000\nmean        0.715079\nstd         2.146782\nmin         0.011570\n25%         0.031745\n50%         0.299550\n75%         0.730685\nmax        65.520840\nName: prob_online, dtype: float64"
     },
     "metadata": {},
     "execution_count": 122
    }
   ],
   "source": [
    "# Summary: online\n",
    "ipo_df['prob_online'].describe()"
   ]
  },
  {
   "cell_type": "code",
   "execution_count": 123,
   "metadata": {},
   "outputs": [
    {
     "output_type": "execute_result",
     "data": {
      "text/plain": "count    1942.000000\nmean        3.509657\nstd         8.398939\nmin         0.000000\n25%         0.010545\n50%         0.102908\n75%         2.691333\nmax       100.000000\nName: prob_offline, dtype: float64"
     },
     "metadata": {},
     "execution_count": 123
    }
   ],
   "source": [
    "# SummaryL offline\n",
    "ipo_df['prob_offline'].describe()"
   ]
  },
  {
   "cell_type": "code",
   "execution_count": 124,
   "metadata": {},
   "outputs": [
    {
     "output_type": "execute_result",
     "data": {
      "text/plain": "count    1942.000000\nmean        0.715482\nstd         2.147102\nmin         0.011570\n25%         0.031740\n50%         0.299567\n75%         0.731566\nmax        65.508859\nName: prob_all, dtype: float64"
     },
     "metadata": {},
     "execution_count": 124
    }
   ],
   "source": [
    "# Summary: overall\n",
    "ipo_df['prob_all'].describe()"
   ]
  },
  {
   "cell_type": "code",
   "execution_count": 110,
   "metadata": {},
   "outputs": [
    {
     "output_type": "execute_result",
     "data": {
      "text/plain": "(array([840.,  53.,  80., 110., 123., 115., 105.,  69.,  56.,  45.,  40.,\n         25.,  31.,  20.,  26.,  20.,  14.,  14.,  12.,   7.,  15.,   6.,\n         15.,   9.,   9.,   9.,   2.,   5.,   5.,   2.,   3.,   4.,   2.,\n          1.,   2.,   1.,   2.,   1.,   0.,   2.,   0.,   1.,   0.,   1.,\n          1.,   0.,   1.,   0.,   2.,   1.,   0.,   0.,   0.,   0.,   0.,\n          1.,   0.,   1.,   1.,   1.,   1.,   1.,   0.,   1.,   1.,   0.,\n          0.,   0.,   0.,   0.,   0.,   1.,   1.,   1.,   0.,   1.,   0.,\n          0.,   1.,   0.,   1.,   1.,   0.,   1.,   0.,   0.,   0.,   1.,\n          1.,   1.,   0.,   0.,   1.,   0.,   0.,   1.,   2.,   0.,   0.,\n          0.]),\n array([ 0. ,  0.1,  0.2,  0.3,  0.4,  0.5,  0.6,  0.7,  0.8,  0.9,  1. ,\n         1.1,  1.2,  1.3,  1.4,  1.5,  1.6,  1.7,  1.8,  1.9,  2. ,  2.1,\n         2.2,  2.3,  2.4,  2.5,  2.6,  2.7,  2.8,  2.9,  3. ,  3.1,  3.2,\n         3.3,  3.4,  3.5,  3.6,  3.7,  3.8,  3.9,  4. ,  4.1,  4.2,  4.3,\n         4.4,  4.5,  4.6,  4.7,  4.8,  4.9,  5. ,  5.1,  5.2,  5.3,  5.4,\n         5.5,  5.6,  5.7,  5.8,  5.9,  6. ,  6.1,  6.2,  6.3,  6.4,  6.5,\n         6.6,  6.7,  6.8,  6.9,  7. ,  7.1,  7.2,  7.3,  7.4,  7.5,  7.6,\n         7.7,  7.8,  7.9,  8. ,  8.1,  8.2,  8.3,  8.4,  8.5,  8.6,  8.7,\n         8.8,  8.9,  9. ,  9.1,  9.2,  9.3,  9.4,  9.5,  9.6,  9.7,  9.8,\n         9.9, 10. ]),\n <BarContainer object of 100 artists>)"
     },
     "metadata": {},
     "execution_count": 110
    },
    {
     "output_type": "display_data",
     "data": {
      "text/plain": "<Figure size 432x288 with 1 Axes>",
      "image/svg+xml": "<?xml version=\"1.0\" encoding=\"utf-8\" standalone=\"no\"?>\r\n<!DOCTYPE svg PUBLIC \"-//W3C//DTD SVG 1.1//EN\"\r\n  \"http://www.w3.org/Graphics/SVG/1.1/DTD/svg11.dtd\">\r\n<!-- Created with matplotlib (https://matplotlib.org/) -->\r\n<svg height=\"246.965pt\" version=\"1.1\" viewBox=\"0 0 371.2 246.965\" width=\"371.2pt\" xmlns=\"http://www.w3.org/2000/svg\" xmlns:xlink=\"http://www.w3.org/1999/xlink\">\r\n <metadata>\r\n  <rdf:RDF xmlns:cc=\"http://creativecommons.org/ns#\" xmlns:dc=\"http://purl.org/dc/elements/1.1/\" xmlns:rdf=\"http://www.w3.org/1999/02/22-rdf-syntax-ns#\">\r\n   <cc:Work>\r\n    <dc:type rdf:resource=\"http://purl.org/dc/dcmitype/StillImage\"/>\r\n    <dc:date>2020-09-12T09:42:31.078975</dc:date>\r\n    <dc:format>image/svg+xml</dc:format>\r\n    <dc:creator>\r\n     <cc:Agent>\r\n      <dc:title>Matplotlib v3.3.1, https://matplotlib.org/</dc:title>\r\n     </cc:Agent>\r\n    </dc:creator>\r\n   </cc:Work>\r\n  </rdf:RDF>\r\n </metadata>\r\n <defs>\r\n  <style type=\"text/css\">*{stroke-linecap:butt;stroke-linejoin:round;}</style>\r\n </defs>\r\n <g id=\"figure_1\">\r\n  <g id=\"patch_1\">\r\n   <path d=\"M 0 246.965 \r\nL 371.2 246.965 \r\nL 371.2 0 \r\nL 0 0 \r\nz\r\n\" style=\"fill:none;\"/>\r\n  </g>\r\n  <g id=\"axes_1\">\r\n   <g id=\"patch_2\">\r\n    <path d=\"M 29.2 224.64 \r\nL 364 224.64 \r\nL 364 7.2 \r\nL 29.2 7.2 \r\nz\r\n\" style=\"fill:#ffffff;\"/>\r\n   </g>\r\n   <g id=\"patch_3\">\r\n    <path clip-path=\"url(#p6f589562d4)\" d=\"M 44.418182 224.64 \r\nL 47.461818 224.64 \r\nL 47.461818 17.554286 \r\nL 44.418182 17.554286 \r\nz\r\n\" style=\"fill:#1f77b4;\"/>\r\n   </g>\r\n   <g id=\"patch_4\">\r\n    <path clip-path=\"url(#p6f589562d4)\" d=\"M 47.461818 224.64 \r\nL 50.505455 224.64 \r\nL 50.505455 211.573878 \r\nL 47.461818 211.573878 \r\nz\r\n\" style=\"fill:#1f77b4;\"/>\r\n   </g>\r\n   <g id=\"patch_5\">\r\n    <path clip-path=\"url(#p6f589562d4)\" d=\"M 50.505455 224.64 \r\nL 53.549091 224.64 \r\nL 53.549091 204.917551 \r\nL 50.505455 204.917551 \r\nz\r\n\" style=\"fill:#1f77b4;\"/>\r\n   </g>\r\n   <g id=\"patch_6\">\r\n    <path clip-path=\"url(#p6f589562d4)\" d=\"M 53.549091 224.64 \r\nL 56.592727 224.64 \r\nL 56.592727 197.521633 \r\nL 53.549091 197.521633 \r\nz\r\n\" style=\"fill:#1f77b4;\"/>\r\n   </g>\r\n   <g id=\"patch_7\">\r\n    <path clip-path=\"url(#p6f589562d4)\" d=\"M 56.592727 224.64 \r\nL 59.636364 224.64 \r\nL 59.636364 194.316735 \r\nL 56.592727 194.316735 \r\nz\r\n\" style=\"fill:#1f77b4;\"/>\r\n   </g>\r\n   <g id=\"patch_8\">\r\n    <path clip-path=\"url(#p6f589562d4)\" d=\"M 59.636364 224.64 \r\nL 62.68 224.64 \r\nL 62.68 196.28898 \r\nL 59.636364 196.28898 \r\nz\r\n\" style=\"fill:#1f77b4;\"/>\r\n   </g>\r\n   <g id=\"patch_9\">\r\n    <path clip-path=\"url(#p6f589562d4)\" d=\"M 62.68 224.64 \r\nL 65.723636 224.64 \r\nL 65.723636 198.754286 \r\nL 62.68 198.754286 \r\nz\r\n\" style=\"fill:#1f77b4;\"/>\r\n   </g>\r\n   <g id=\"patch_10\">\r\n    <path clip-path=\"url(#p6f589562d4)\" d=\"M 65.723636 224.64 \r\nL 68.767273 224.64 \r\nL 68.767273 207.629388 \r\nL 65.723636 207.629388 \r\nz\r\n\" style=\"fill:#1f77b4;\"/>\r\n   </g>\r\n   <g id=\"patch_11\">\r\n    <path clip-path=\"url(#p6f589562d4)\" d=\"M 68.767273 224.64 \r\nL 71.810909 224.64 \r\nL 71.810909 210.834286 \r\nL 68.767273 210.834286 \r\nz\r\n\" style=\"fill:#1f77b4;\"/>\r\n   </g>\r\n   <g id=\"patch_12\">\r\n    <path clip-path=\"url(#p6f589562d4)\" d=\"M 71.810909 224.64 \r\nL 74.854545 224.64 \r\nL 74.854545 213.546122 \r\nL 71.810909 213.546122 \r\nz\r\n\" style=\"fill:#1f77b4;\"/>\r\n   </g>\r\n   <g id=\"patch_13\">\r\n    <path clip-path=\"url(#p6f589562d4)\" d=\"M 74.854545 224.64 \r\nL 77.898182 224.64 \r\nL 77.898182 214.778776 \r\nL 74.854545 214.778776 \r\nz\r\n\" style=\"fill:#1f77b4;\"/>\r\n   </g>\r\n   <g id=\"patch_14\">\r\n    <path clip-path=\"url(#p6f589562d4)\" d=\"M 77.898182 224.64 \r\nL 80.941818 224.64 \r\nL 80.941818 218.476735 \r\nL 77.898182 218.476735 \r\nz\r\n\" style=\"fill:#1f77b4;\"/>\r\n   </g>\r\n   <g id=\"patch_15\">\r\n    <path clip-path=\"url(#p6f589562d4)\" d=\"M 80.941818 224.64 \r\nL 83.985455 224.64 \r\nL 83.985455 216.997551 \r\nL 80.941818 216.997551 \r\nz\r\n\" style=\"fill:#1f77b4;\"/>\r\n   </g>\r\n   <g id=\"patch_16\">\r\n    <path clip-path=\"url(#p6f589562d4)\" d=\"M 83.985455 224.64 \r\nL 87.029091 224.64 \r\nL 87.029091 219.709388 \r\nL 83.985455 219.709388 \r\nz\r\n\" style=\"fill:#1f77b4;\"/>\r\n   </g>\r\n   <g id=\"patch_17\">\r\n    <path clip-path=\"url(#p6f589562d4)\" d=\"M 87.029091 224.64 \r\nL 90.072727 224.64 \r\nL 90.072727 218.230204 \r\nL 87.029091 218.230204 \r\nz\r\n\" style=\"fill:#1f77b4;\"/>\r\n   </g>\r\n   <g id=\"patch_18\">\r\n    <path clip-path=\"url(#p6f589562d4)\" d=\"M 90.072727 224.64 \r\nL 93.116364 224.64 \r\nL 93.116364 219.709388 \r\nL 90.072727 219.709388 \r\nz\r\n\" style=\"fill:#1f77b4;\"/>\r\n   </g>\r\n   <g id=\"patch_19\">\r\n    <path clip-path=\"url(#p6f589562d4)\" d=\"M 93.116364 224.64 \r\nL 96.16 224.64 \r\nL 96.16 221.188571 \r\nL 93.116364 221.188571 \r\nz\r\n\" style=\"fill:#1f77b4;\"/>\r\n   </g>\r\n   <g id=\"patch_20\">\r\n    <path clip-path=\"url(#p6f589562d4)\" d=\"M 96.16 224.64 \r\nL 99.203636 224.64 \r\nL 99.203636 221.188571 \r\nL 96.16 221.188571 \r\nz\r\n\" style=\"fill:#1f77b4;\"/>\r\n   </g>\r\n   <g id=\"patch_21\">\r\n    <path clip-path=\"url(#p6f589562d4)\" d=\"M 99.203636 224.64 \r\nL 102.247273 224.64 \r\nL 102.247273 221.681633 \r\nL 99.203636 221.681633 \r\nz\r\n\" style=\"fill:#1f77b4;\"/>\r\n   </g>\r\n   <g id=\"patch_22\">\r\n    <path clip-path=\"url(#p6f589562d4)\" d=\"M 102.247273 224.64 \r\nL 105.290909 224.64 \r\nL 105.290909 222.914286 \r\nL 102.247273 222.914286 \r\nz\r\n\" style=\"fill:#1f77b4;\"/>\r\n   </g>\r\n   <g id=\"patch_23\">\r\n    <path clip-path=\"url(#p6f589562d4)\" d=\"M 105.290909 224.64 \r\nL 108.334545 224.64 \r\nL 108.334545 220.942041 \r\nL 105.290909 220.942041 \r\nz\r\n\" style=\"fill:#1f77b4;\"/>\r\n   </g>\r\n   <g id=\"patch_24\">\r\n    <path clip-path=\"url(#p6f589562d4)\" d=\"M 108.334545 224.64 \r\nL 111.378182 224.64 \r\nL 111.378182 223.160816 \r\nL 108.334545 223.160816 \r\nz\r\n\" style=\"fill:#1f77b4;\"/>\r\n   </g>\r\n   <g id=\"patch_25\">\r\n    <path clip-path=\"url(#p6f589562d4)\" d=\"M 111.378182 224.64 \r\nL 114.421818 224.64 \r\nL 114.421818 220.942041 \r\nL 111.378182 220.942041 \r\nz\r\n\" style=\"fill:#1f77b4;\"/>\r\n   </g>\r\n   <g id=\"patch_26\">\r\n    <path clip-path=\"url(#p6f589562d4)\" d=\"M 114.421818 224.64 \r\nL 117.465455 224.64 \r\nL 117.465455 222.421224 \r\nL 114.421818 222.421224 \r\nz\r\n\" style=\"fill:#1f77b4;\"/>\r\n   </g>\r\n   <g id=\"patch_27\">\r\n    <path clip-path=\"url(#p6f589562d4)\" d=\"M 117.465455 224.64 \r\nL 120.509091 224.64 \r\nL 120.509091 222.421224 \r\nL 117.465455 222.421224 \r\nz\r\n\" style=\"fill:#1f77b4;\"/>\r\n   </g>\r\n   <g id=\"patch_28\">\r\n    <path clip-path=\"url(#p6f589562d4)\" d=\"M 120.509091 224.64 \r\nL 123.552727 224.64 \r\nL 123.552727 222.421224 \r\nL 120.509091 222.421224 \r\nz\r\n\" style=\"fill:#1f77b4;\"/>\r\n   </g>\r\n   <g id=\"patch_29\">\r\n    <path clip-path=\"url(#p6f589562d4)\" d=\"M 123.552727 224.64 \r\nL 126.596364 224.64 \r\nL 126.596364 224.146939 \r\nL 123.552727 224.146939 \r\nz\r\n\" style=\"fill:#1f77b4;\"/>\r\n   </g>\r\n   <g id=\"patch_30\">\r\n    <path clip-path=\"url(#p6f589562d4)\" d=\"M 126.596364 224.64 \r\nL 129.64 224.64 \r\nL 129.64 223.407347 \r\nL 126.596364 223.407347 \r\nz\r\n\" style=\"fill:#1f77b4;\"/>\r\n   </g>\r\n   <g id=\"patch_31\">\r\n    <path clip-path=\"url(#p6f589562d4)\" d=\"M 129.64 224.64 \r\nL 132.683636 224.64 \r\nL 132.683636 223.407347 \r\nL 129.64 223.407347 \r\nz\r\n\" style=\"fill:#1f77b4;\"/>\r\n   </g>\r\n   <g id=\"patch_32\">\r\n    <path clip-path=\"url(#p6f589562d4)\" d=\"M 132.683636 224.64 \r\nL 135.727273 224.64 \r\nL 135.727273 224.146939 \r\nL 132.683636 224.146939 \r\nz\r\n\" style=\"fill:#1f77b4;\"/>\r\n   </g>\r\n   <g id=\"patch_33\">\r\n    <path clip-path=\"url(#p6f589562d4)\" d=\"M 135.727273 224.64 \r\nL 138.770909 224.64 \r\nL 138.770909 223.900408 \r\nL 135.727273 223.900408 \r\nz\r\n\" style=\"fill:#1f77b4;\"/>\r\n   </g>\r\n   <g id=\"patch_34\">\r\n    <path clip-path=\"url(#p6f589562d4)\" d=\"M 138.770909 224.64 \r\nL 141.814545 224.64 \r\nL 141.814545 223.653878 \r\nL 138.770909 223.653878 \r\nz\r\n\" style=\"fill:#1f77b4;\"/>\r\n   </g>\r\n   <g id=\"patch_35\">\r\n    <path clip-path=\"url(#p6f589562d4)\" d=\"M 141.814545 224.64 \r\nL 144.858182 224.64 \r\nL 144.858182 224.146939 \r\nL 141.814545 224.146939 \r\nz\r\n\" style=\"fill:#1f77b4;\"/>\r\n   </g>\r\n   <g id=\"patch_36\">\r\n    <path clip-path=\"url(#p6f589562d4)\" d=\"M 144.858182 224.64 \r\nL 147.901818 224.64 \r\nL 147.901818 224.393469 \r\nL 144.858182 224.393469 \r\nz\r\n\" style=\"fill:#1f77b4;\"/>\r\n   </g>\r\n   <g id=\"patch_37\">\r\n    <path clip-path=\"url(#p6f589562d4)\" d=\"M 147.901818 224.64 \r\nL 150.945455 224.64 \r\nL 150.945455 224.146939 \r\nL 147.901818 224.146939 \r\nz\r\n\" style=\"fill:#1f77b4;\"/>\r\n   </g>\r\n   <g id=\"patch_38\">\r\n    <path clip-path=\"url(#p6f589562d4)\" d=\"M 150.945455 224.64 \r\nL 153.989091 224.64 \r\nL 153.989091 224.393469 \r\nL 150.945455 224.393469 \r\nz\r\n\" style=\"fill:#1f77b4;\"/>\r\n   </g>\r\n   <g id=\"patch_39\">\r\n    <path clip-path=\"url(#p6f589562d4)\" d=\"M 153.989091 224.64 \r\nL 157.032727 224.64 \r\nL 157.032727 224.146939 \r\nL 153.989091 224.146939 \r\nz\r\n\" style=\"fill:#1f77b4;\"/>\r\n   </g>\r\n   <g id=\"patch_40\">\r\n    <path clip-path=\"url(#p6f589562d4)\" d=\"M 157.032727 224.64 \r\nL 160.076364 224.64 \r\nL 160.076364 224.393469 \r\nL 157.032727 224.393469 \r\nz\r\n\" style=\"fill:#1f77b4;\"/>\r\n   </g>\r\n   <g id=\"patch_41\">\r\n    <path clip-path=\"url(#p6f589562d4)\" d=\"M 160.076364 224.64 \r\nL 163.12 224.64 \r\nL 163.12 224.64 \r\nL 160.076364 224.64 \r\nz\r\n\" style=\"fill:#1f77b4;\"/>\r\n   </g>\r\n   <g id=\"patch_42\">\r\n    <path clip-path=\"url(#p6f589562d4)\" d=\"M 163.12 224.64 \r\nL 166.163636 224.64 \r\nL 166.163636 224.146939 \r\nL 163.12 224.146939 \r\nz\r\n\" style=\"fill:#1f77b4;\"/>\r\n   </g>\r\n   <g id=\"patch_43\">\r\n    <path clip-path=\"url(#p6f589562d4)\" d=\"M 166.163636 224.64 \r\nL 169.207273 224.64 \r\nL 169.207273 224.64 \r\nL 166.163636 224.64 \r\nz\r\n\" style=\"fill:#1f77b4;\"/>\r\n   </g>\r\n   <g id=\"patch_44\">\r\n    <path clip-path=\"url(#p6f589562d4)\" d=\"M 169.207273 224.64 \r\nL 172.250909 224.64 \r\nL 172.250909 224.393469 \r\nL 169.207273 224.393469 \r\nz\r\n\" style=\"fill:#1f77b4;\"/>\r\n   </g>\r\n   <g id=\"patch_45\">\r\n    <path clip-path=\"url(#p6f589562d4)\" d=\"M 172.250909 224.64 \r\nL 175.294545 224.64 \r\nL 175.294545 224.64 \r\nL 172.250909 224.64 \r\nz\r\n\" style=\"fill:#1f77b4;\"/>\r\n   </g>\r\n   <g id=\"patch_46\">\r\n    <path clip-path=\"url(#p6f589562d4)\" d=\"M 175.294545 224.64 \r\nL 178.338182 224.64 \r\nL 178.338182 224.393469 \r\nL 175.294545 224.393469 \r\nz\r\n\" style=\"fill:#1f77b4;\"/>\r\n   </g>\r\n   <g id=\"patch_47\">\r\n    <path clip-path=\"url(#p6f589562d4)\" d=\"M 178.338182 224.64 \r\nL 181.381818 224.64 \r\nL 181.381818 224.393469 \r\nL 178.338182 224.393469 \r\nz\r\n\" style=\"fill:#1f77b4;\"/>\r\n   </g>\r\n   <g id=\"patch_48\">\r\n    <path clip-path=\"url(#p6f589562d4)\" d=\"M 181.381818 224.64 \r\nL 184.425455 224.64 \r\nL 184.425455 224.64 \r\nL 181.381818 224.64 \r\nz\r\n\" style=\"fill:#1f77b4;\"/>\r\n   </g>\r\n   <g id=\"patch_49\">\r\n    <path clip-path=\"url(#p6f589562d4)\" d=\"M 184.425455 224.64 \r\nL 187.469091 224.64 \r\nL 187.469091 224.393469 \r\nL 184.425455 224.393469 \r\nz\r\n\" style=\"fill:#1f77b4;\"/>\r\n   </g>\r\n   <g id=\"patch_50\">\r\n    <path clip-path=\"url(#p6f589562d4)\" d=\"M 187.469091 224.64 \r\nL 190.512727 224.64 \r\nL 190.512727 224.64 \r\nL 187.469091 224.64 \r\nz\r\n\" style=\"fill:#1f77b4;\"/>\r\n   </g>\r\n   <g id=\"patch_51\">\r\n    <path clip-path=\"url(#p6f589562d4)\" d=\"M 190.512727 224.64 \r\nL 193.556364 224.64 \r\nL 193.556364 224.146939 \r\nL 190.512727 224.146939 \r\nz\r\n\" style=\"fill:#1f77b4;\"/>\r\n   </g>\r\n   <g id=\"patch_52\">\r\n    <path clip-path=\"url(#p6f589562d4)\" d=\"M 193.556364 224.64 \r\nL 196.6 224.64 \r\nL 196.6 224.393469 \r\nL 193.556364 224.393469 \r\nz\r\n\" style=\"fill:#1f77b4;\"/>\r\n   </g>\r\n   <g id=\"patch_53\">\r\n    <path clip-path=\"url(#p6f589562d4)\" d=\"M 196.6 224.64 \r\nL 199.643636 224.64 \r\nL 199.643636 224.64 \r\nL 196.6 224.64 \r\nz\r\n\" style=\"fill:#1f77b4;\"/>\r\n   </g>\r\n   <g id=\"patch_54\">\r\n    <path clip-path=\"url(#p6f589562d4)\" d=\"M 199.643636 224.64 \r\nL 202.687273 224.64 \r\nL 202.687273 224.64 \r\nL 199.643636 224.64 \r\nz\r\n\" style=\"fill:#1f77b4;\"/>\r\n   </g>\r\n   <g id=\"patch_55\">\r\n    <path clip-path=\"url(#p6f589562d4)\" d=\"M 202.687273 224.64 \r\nL 205.730909 224.64 \r\nL 205.730909 224.64 \r\nL 202.687273 224.64 \r\nz\r\n\" style=\"fill:#1f77b4;\"/>\r\n   </g>\r\n   <g id=\"patch_56\">\r\n    <path clip-path=\"url(#p6f589562d4)\" d=\"M 205.730909 224.64 \r\nL 208.774545 224.64 \r\nL 208.774545 224.64 \r\nL 205.730909 224.64 \r\nz\r\n\" style=\"fill:#1f77b4;\"/>\r\n   </g>\r\n   <g id=\"patch_57\">\r\n    <path clip-path=\"url(#p6f589562d4)\" d=\"M 208.774545 224.64 \r\nL 211.818182 224.64 \r\nL 211.818182 224.64 \r\nL 208.774545 224.64 \r\nz\r\n\" style=\"fill:#1f77b4;\"/>\r\n   </g>\r\n   <g id=\"patch_58\">\r\n    <path clip-path=\"url(#p6f589562d4)\" d=\"M 211.818182 224.64 \r\nL 214.861818 224.64 \r\nL 214.861818 224.393469 \r\nL 211.818182 224.393469 \r\nz\r\n\" style=\"fill:#1f77b4;\"/>\r\n   </g>\r\n   <g id=\"patch_59\">\r\n    <path clip-path=\"url(#p6f589562d4)\" d=\"M 214.861818 224.64 \r\nL 217.905455 224.64 \r\nL 217.905455 224.64 \r\nL 214.861818 224.64 \r\nz\r\n\" style=\"fill:#1f77b4;\"/>\r\n   </g>\r\n   <g id=\"patch_60\">\r\n    <path clip-path=\"url(#p6f589562d4)\" d=\"M 217.905455 224.64 \r\nL 220.949091 224.64 \r\nL 220.949091 224.393469 \r\nL 217.905455 224.393469 \r\nz\r\n\" style=\"fill:#1f77b4;\"/>\r\n   </g>\r\n   <g id=\"patch_61\">\r\n    <path clip-path=\"url(#p6f589562d4)\" d=\"M 220.949091 224.64 \r\nL 223.992727 224.64 \r\nL 223.992727 224.393469 \r\nL 220.949091 224.393469 \r\nz\r\n\" style=\"fill:#1f77b4;\"/>\r\n   </g>\r\n   <g id=\"patch_62\">\r\n    <path clip-path=\"url(#p6f589562d4)\" d=\"M 223.992727 224.64 \r\nL 227.036364 224.64 \r\nL 227.036364 224.393469 \r\nL 223.992727 224.393469 \r\nz\r\n\" style=\"fill:#1f77b4;\"/>\r\n   </g>\r\n   <g id=\"patch_63\">\r\n    <path clip-path=\"url(#p6f589562d4)\" d=\"M 227.036364 224.64 \r\nL 230.08 224.64 \r\nL 230.08 224.393469 \r\nL 227.036364 224.393469 \r\nz\r\n\" style=\"fill:#1f77b4;\"/>\r\n   </g>\r\n   <g id=\"patch_64\">\r\n    <path clip-path=\"url(#p6f589562d4)\" d=\"M 230.08 224.64 \r\nL 233.123636 224.64 \r\nL 233.123636 224.393469 \r\nL 230.08 224.393469 \r\nz\r\n\" style=\"fill:#1f77b4;\"/>\r\n   </g>\r\n   <g id=\"patch_65\">\r\n    <path clip-path=\"url(#p6f589562d4)\" d=\"M 233.123636 224.64 \r\nL 236.167273 224.64 \r\nL 236.167273 224.64 \r\nL 233.123636 224.64 \r\nz\r\n\" style=\"fill:#1f77b4;\"/>\r\n   </g>\r\n   <g id=\"patch_66\">\r\n    <path clip-path=\"url(#p6f589562d4)\" d=\"M 236.167273 224.64 \r\nL 239.210909 224.64 \r\nL 239.210909 224.393469 \r\nL 236.167273 224.393469 \r\nz\r\n\" style=\"fill:#1f77b4;\"/>\r\n   </g>\r\n   <g id=\"patch_67\">\r\n    <path clip-path=\"url(#p6f589562d4)\" d=\"M 239.210909 224.64 \r\nL 242.254545 224.64 \r\nL 242.254545 224.393469 \r\nL 239.210909 224.393469 \r\nz\r\n\" style=\"fill:#1f77b4;\"/>\r\n   </g>\r\n   <g id=\"patch_68\">\r\n    <path clip-path=\"url(#p6f589562d4)\" d=\"M 242.254545 224.64 \r\nL 245.298182 224.64 \r\nL 245.298182 224.64 \r\nL 242.254545 224.64 \r\nz\r\n\" style=\"fill:#1f77b4;\"/>\r\n   </g>\r\n   <g id=\"patch_69\">\r\n    <path clip-path=\"url(#p6f589562d4)\" d=\"M 245.298182 224.64 \r\nL 248.341818 224.64 \r\nL 248.341818 224.64 \r\nL 245.298182 224.64 \r\nz\r\n\" style=\"fill:#1f77b4;\"/>\r\n   </g>\r\n   <g id=\"patch_70\">\r\n    <path clip-path=\"url(#p6f589562d4)\" d=\"M 248.341818 224.64 \r\nL 251.385455 224.64 \r\nL 251.385455 224.64 \r\nL 248.341818 224.64 \r\nz\r\n\" style=\"fill:#1f77b4;\"/>\r\n   </g>\r\n   <g id=\"patch_71\">\r\n    <path clip-path=\"url(#p6f589562d4)\" d=\"M 251.385455 224.64 \r\nL 254.429091 224.64 \r\nL 254.429091 224.64 \r\nL 251.385455 224.64 \r\nz\r\n\" style=\"fill:#1f77b4;\"/>\r\n   </g>\r\n   <g id=\"patch_72\">\r\n    <path clip-path=\"url(#p6f589562d4)\" d=\"M 254.429091 224.64 \r\nL 257.472727 224.64 \r\nL 257.472727 224.64 \r\nL 254.429091 224.64 \r\nz\r\n\" style=\"fill:#1f77b4;\"/>\r\n   </g>\r\n   <g id=\"patch_73\">\r\n    <path clip-path=\"url(#p6f589562d4)\" d=\"M 257.472727 224.64 \r\nL 260.516364 224.64 \r\nL 260.516364 224.64 \r\nL 257.472727 224.64 \r\nz\r\n\" style=\"fill:#1f77b4;\"/>\r\n   </g>\r\n   <g id=\"patch_74\">\r\n    <path clip-path=\"url(#p6f589562d4)\" d=\"M 260.516364 224.64 \r\nL 263.56 224.64 \r\nL 263.56 224.393469 \r\nL 260.516364 224.393469 \r\nz\r\n\" style=\"fill:#1f77b4;\"/>\r\n   </g>\r\n   <g id=\"patch_75\">\r\n    <path clip-path=\"url(#p6f589562d4)\" d=\"M 263.56 224.64 \r\nL 266.603636 224.64 \r\nL 266.603636 224.393469 \r\nL 263.56 224.393469 \r\nz\r\n\" style=\"fill:#1f77b4;\"/>\r\n   </g>\r\n   <g id=\"patch_76\">\r\n    <path clip-path=\"url(#p6f589562d4)\" d=\"M 266.603636 224.64 \r\nL 269.647273 224.64 \r\nL 269.647273 224.393469 \r\nL 266.603636 224.393469 \r\nz\r\n\" style=\"fill:#1f77b4;\"/>\r\n   </g>\r\n   <g id=\"patch_77\">\r\n    <path clip-path=\"url(#p6f589562d4)\" d=\"M 269.647273 224.64 \r\nL 272.690909 224.64 \r\nL 272.690909 224.64 \r\nL 269.647273 224.64 \r\nz\r\n\" style=\"fill:#1f77b4;\"/>\r\n   </g>\r\n   <g id=\"patch_78\">\r\n    <path clip-path=\"url(#p6f589562d4)\" d=\"M 272.690909 224.64 \r\nL 275.734545 224.64 \r\nL 275.734545 224.393469 \r\nL 272.690909 224.393469 \r\nz\r\n\" style=\"fill:#1f77b4;\"/>\r\n   </g>\r\n   <g id=\"patch_79\">\r\n    <path clip-path=\"url(#p6f589562d4)\" d=\"M 275.734545 224.64 \r\nL 278.778182 224.64 \r\nL 278.778182 224.64 \r\nL 275.734545 224.64 \r\nz\r\n\" style=\"fill:#1f77b4;\"/>\r\n   </g>\r\n   <g id=\"patch_80\">\r\n    <path clip-path=\"url(#p6f589562d4)\" d=\"M 278.778182 224.64 \r\nL 281.821818 224.64 \r\nL 281.821818 224.64 \r\nL 278.778182 224.64 \r\nz\r\n\" style=\"fill:#1f77b4;\"/>\r\n   </g>\r\n   <g id=\"patch_81\">\r\n    <path clip-path=\"url(#p6f589562d4)\" d=\"M 281.821818 224.64 \r\nL 284.865455 224.64 \r\nL 284.865455 224.393469 \r\nL 281.821818 224.393469 \r\nz\r\n\" style=\"fill:#1f77b4;\"/>\r\n   </g>\r\n   <g id=\"patch_82\">\r\n    <path clip-path=\"url(#p6f589562d4)\" d=\"M 284.865455 224.64 \r\nL 287.909091 224.64 \r\nL 287.909091 224.64 \r\nL 284.865455 224.64 \r\nz\r\n\" style=\"fill:#1f77b4;\"/>\r\n   </g>\r\n   <g id=\"patch_83\">\r\n    <path clip-path=\"url(#p6f589562d4)\" d=\"M 287.909091 224.64 \r\nL 290.952727 224.64 \r\nL 290.952727 224.393469 \r\nL 287.909091 224.393469 \r\nz\r\n\" style=\"fill:#1f77b4;\"/>\r\n   </g>\r\n   <g id=\"patch_84\">\r\n    <path clip-path=\"url(#p6f589562d4)\" d=\"M 290.952727 224.64 \r\nL 293.996364 224.64 \r\nL 293.996364 224.393469 \r\nL 290.952727 224.393469 \r\nz\r\n\" style=\"fill:#1f77b4;\"/>\r\n   </g>\r\n   <g id=\"patch_85\">\r\n    <path clip-path=\"url(#p6f589562d4)\" d=\"M 293.996364 224.64 \r\nL 297.04 224.64 \r\nL 297.04 224.64 \r\nL 293.996364 224.64 \r\nz\r\n\" style=\"fill:#1f77b4;\"/>\r\n   </g>\r\n   <g id=\"patch_86\">\r\n    <path clip-path=\"url(#p6f589562d4)\" d=\"M 297.04 224.64 \r\nL 300.083636 224.64 \r\nL 300.083636 224.393469 \r\nL 297.04 224.393469 \r\nz\r\n\" style=\"fill:#1f77b4;\"/>\r\n   </g>\r\n   <g id=\"patch_87\">\r\n    <path clip-path=\"url(#p6f589562d4)\" d=\"M 300.083636 224.64 \r\nL 303.127273 224.64 \r\nL 303.127273 224.64 \r\nL 300.083636 224.64 \r\nz\r\n\" style=\"fill:#1f77b4;\"/>\r\n   </g>\r\n   <g id=\"patch_88\">\r\n    <path clip-path=\"url(#p6f589562d4)\" d=\"M 303.127273 224.64 \r\nL 306.170909 224.64 \r\nL 306.170909 224.64 \r\nL 303.127273 224.64 \r\nz\r\n\" style=\"fill:#1f77b4;\"/>\r\n   </g>\r\n   <g id=\"patch_89\">\r\n    <path clip-path=\"url(#p6f589562d4)\" d=\"M 306.170909 224.64 \r\nL 309.214545 224.64 \r\nL 309.214545 224.64 \r\nL 306.170909 224.64 \r\nz\r\n\" style=\"fill:#1f77b4;\"/>\r\n   </g>\r\n   <g id=\"patch_90\">\r\n    <path clip-path=\"url(#p6f589562d4)\" d=\"M 309.214545 224.64 \r\nL 312.258182 224.64 \r\nL 312.258182 224.393469 \r\nL 309.214545 224.393469 \r\nz\r\n\" style=\"fill:#1f77b4;\"/>\r\n   </g>\r\n   <g id=\"patch_91\">\r\n    <path clip-path=\"url(#p6f589562d4)\" d=\"M 312.258182 224.64 \r\nL 315.301818 224.64 \r\nL 315.301818 224.393469 \r\nL 312.258182 224.393469 \r\nz\r\n\" style=\"fill:#1f77b4;\"/>\r\n   </g>\r\n   <g id=\"patch_92\">\r\n    <path clip-path=\"url(#p6f589562d4)\" d=\"M 315.301818 224.64 \r\nL 318.345455 224.64 \r\nL 318.345455 224.393469 \r\nL 315.301818 224.393469 \r\nz\r\n\" style=\"fill:#1f77b4;\"/>\r\n   </g>\r\n   <g id=\"patch_93\">\r\n    <path clip-path=\"url(#p6f589562d4)\" d=\"M 318.345455 224.64 \r\nL 321.389091 224.64 \r\nL 321.389091 224.64 \r\nL 318.345455 224.64 \r\nz\r\n\" style=\"fill:#1f77b4;\"/>\r\n   </g>\r\n   <g id=\"patch_94\">\r\n    <path clip-path=\"url(#p6f589562d4)\" d=\"M 321.389091 224.64 \r\nL 324.432727 224.64 \r\nL 324.432727 224.64 \r\nL 321.389091 224.64 \r\nz\r\n\" style=\"fill:#1f77b4;\"/>\r\n   </g>\r\n   <g id=\"patch_95\">\r\n    <path clip-path=\"url(#p6f589562d4)\" d=\"M 324.432727 224.64 \r\nL 327.476364 224.64 \r\nL 327.476364 224.393469 \r\nL 324.432727 224.393469 \r\nz\r\n\" style=\"fill:#1f77b4;\"/>\r\n   </g>\r\n   <g id=\"patch_96\">\r\n    <path clip-path=\"url(#p6f589562d4)\" d=\"M 327.476364 224.64 \r\nL 330.52 224.64 \r\nL 330.52 224.64 \r\nL 327.476364 224.64 \r\nz\r\n\" style=\"fill:#1f77b4;\"/>\r\n   </g>\r\n   <g id=\"patch_97\">\r\n    <path clip-path=\"url(#p6f589562d4)\" d=\"M 330.52 224.64 \r\nL 333.563636 224.64 \r\nL 333.563636 224.64 \r\nL 330.52 224.64 \r\nz\r\n\" style=\"fill:#1f77b4;\"/>\r\n   </g>\r\n   <g id=\"patch_98\">\r\n    <path clip-path=\"url(#p6f589562d4)\" d=\"M 333.563636 224.64 \r\nL 336.607273 224.64 \r\nL 336.607273 224.393469 \r\nL 333.563636 224.393469 \r\nz\r\n\" style=\"fill:#1f77b4;\"/>\r\n   </g>\r\n   <g id=\"patch_99\">\r\n    <path clip-path=\"url(#p6f589562d4)\" d=\"M 336.607273 224.64 \r\nL 339.650909 224.64 \r\nL 339.650909 224.146939 \r\nL 336.607273 224.146939 \r\nz\r\n\" style=\"fill:#1f77b4;\"/>\r\n   </g>\r\n   <g id=\"patch_100\">\r\n    <path clip-path=\"url(#p6f589562d4)\" d=\"M 339.650909 224.64 \r\nL 342.694545 224.64 \r\nL 342.694545 224.64 \r\nL 339.650909 224.64 \r\nz\r\n\" style=\"fill:#1f77b4;\"/>\r\n   </g>\r\n   <g id=\"patch_101\">\r\n    <path clip-path=\"url(#p6f589562d4)\" d=\"M 342.694545 224.64 \r\nL 345.738182 224.64 \r\nL 345.738182 224.64 \r\nL 342.694545 224.64 \r\nz\r\n\" style=\"fill:#1f77b4;\"/>\r\n   </g>\r\n   <g id=\"patch_102\">\r\n    <path clip-path=\"url(#p6f589562d4)\" d=\"M 345.738182 224.64 \r\nL 348.781818 224.64 \r\nL 348.781818 224.64 \r\nL 345.738182 224.64 \r\nz\r\n\" style=\"fill:#1f77b4;\"/>\r\n   </g>\r\n   <g id=\"matplotlib.axis_1\">\r\n    <g id=\"xtick_1\">\r\n     <g id=\"line2d_1\">\r\n      <defs>\r\n       <path d=\"M 0 0 \r\nL 0 3.5 \r\n\" id=\"m73c876bf92\" style=\"stroke:#000000;stroke-width:0.8;\"/>\r\n      </defs>\r\n      <g>\r\n       <use style=\"stroke:#000000;stroke-width:0.8;\" x=\"44.418182\" xlink:href=\"#m73c876bf92\" y=\"224.64\"/>\r\n      </g>\r\n     </g>\r\n     <g id=\"text_1\">\r\n      <!-- 0 -->\r\n      <g transform=\"translate(41.918182 238.515)scale(0.1 -0.1)\">\r\n       <defs>\r\n        <path d=\"M 3.125 29.296875 \r\nQ 3.90625 50 6.4375 56.046875 \r\nQ 8.984375 62.109375 13.671875 66.015625 \r\nQ 18.359375 69.921875 25.1875 69.921875 \r\nQ 32.03125 69.921875 37.109375 64.25 \r\nQ 42.1875 58.59375 43.75 50 \r\nQ 45.3125 41.40625 44.71875 30.265625 \r\nQ 44.140625 19.140625 40.8125 12.109375 \r\nQ 37.5 5.078125 30.859375 2.34375 \r\nQ 24.21875 -0.390625 17.578125 2.921875 \r\nQ 10.9375 6.25 8.203125 11.71875 \r\nQ 5.46875 17.1875 4.296875 23.234375 \r\nQ 3.125 29.296875 3.90625 50 \r\nz\r\nM 12.890625 52.734375 \r\nQ 10.546875 31.25 12.5 22.84375 \r\nQ 14.453125 14.453125 18.9375 10.9375 \r\nQ 23.4375 7.421875 28.125 9.5625 \r\nQ 32.8125 11.71875 34.953125 18.15625 \r\nQ 37.109375 24.609375 37.109375 32.21875 \r\nQ 37.109375 39.84375 36.515625 46.09375 \r\nQ 35.9375 52.34375 33 57.421875 \r\nQ 30.078125 62.5 25.1875 62.6875 \r\nQ 20.3125 62.890625 16.59375 57.8125 \r\nQ 12.890625 52.734375 10.546875 31.25 \r\nz\r\n\" id=\"SimHei-48\"/>\r\n       </defs>\r\n       <use xlink:href=\"#SimHei-48\"/>\r\n      </g>\r\n     </g>\r\n    </g>\r\n    <g id=\"xtick_2\">\r\n     <g id=\"line2d_2\">\r\n      <g>\r\n       <use style=\"stroke:#000000;stroke-width:0.8;\" x=\"105.290909\" xlink:href=\"#m73c876bf92\" y=\"224.64\"/>\r\n      </g>\r\n     </g>\r\n     <g id=\"text_2\">\r\n      <!-- 2 -->\r\n      <g transform=\"translate(102.790909 238.515)scale(0.1 -0.1)\">\r\n       <defs>\r\n        <path d=\"M 4.6875 3.90625 \r\nQ 5.078125 9.765625 10.15625 14.453125 \r\nQ 15.234375 19.140625 23.046875 29.09375 \r\nQ 30.859375 39.0625 33.203125 44.53125 \r\nQ 35.546875 50 34.953125 53.90625 \r\nQ 34.375 57.8125 31.25 60.34375 \r\nQ 28.125 62.890625 24.015625 62.5 \r\nQ 19.921875 62.109375 16.203125 59.375 \r\nQ 12.5 56.640625 10.546875 51.171875 \r\nL 3.125 52.34375 \r\nQ 6.25 61.328125 11.125 65.421875 \r\nQ 16.015625 69.53125 22.65625 69.921875 \r\nQ 26.5625 70.3125 29.6875 69.71875 \r\nQ 32.8125 69.140625 36.125 66.984375 \r\nQ 39.453125 64.84375 41.59375 60.546875 \r\nQ 43.75 56.25 43.15625 50.1875 \r\nQ 42.578125 44.140625 37.109375 35.734375 \r\nQ 31.640625 27.34375 16.015625 9.375 \r\nL 44.140625 9.375 \r\nL 44.140625 2.34375 \r\nL 4.6875 2.34375 \r\nz\r\n\" id=\"SimHei-50\"/>\r\n       </defs>\r\n       <use xlink:href=\"#SimHei-50\"/>\r\n      </g>\r\n     </g>\r\n    </g>\r\n    <g id=\"xtick_3\">\r\n     <g id=\"line2d_3\">\r\n      <g>\r\n       <use style=\"stroke:#000000;stroke-width:0.8;\" x=\"166.163636\" xlink:href=\"#m73c876bf92\" y=\"224.64\"/>\r\n      </g>\r\n     </g>\r\n     <g id=\"text_3\">\r\n      <!-- 4 -->\r\n      <g transform=\"translate(163.663636 238.515)scale(0.1 -0.1)\">\r\n       <defs>\r\n        <path d=\"M 31.25 17.1875 \r\nL 1.171875 17.1875 \r\nL 1.171875 23.828125 \r\nL 32.8125 69.53125 \r\nL 38.671875 69.53125 \r\nL 38.671875 23.828125 \r\nL 48.046875 23.828125 \r\nL 48.046875 17.1875 \r\nL 38.671875 17.1875 \r\nL 38.671875 2.34375 \r\nL 31.25 2.34375 \r\nz\r\nM 31.25 23.828125 \r\nL 31.25 54.6875 \r\nL 9.375 23.828125 \r\nz\r\n\" id=\"SimHei-52\"/>\r\n       </defs>\r\n       <use xlink:href=\"#SimHei-52\"/>\r\n      </g>\r\n     </g>\r\n    </g>\r\n    <g id=\"xtick_4\">\r\n     <g id=\"line2d_4\">\r\n      <g>\r\n       <use style=\"stroke:#000000;stroke-width:0.8;\" x=\"227.036364\" xlink:href=\"#m73c876bf92\" y=\"224.64\"/>\r\n      </g>\r\n     </g>\r\n     <g id=\"text_4\">\r\n      <!-- 6 -->\r\n      <g transform=\"translate(224.536364 238.515)scale(0.1 -0.1)\">\r\n       <defs>\r\n        <path d=\"M 3.515625 19.53125 \r\nQ 4.296875 30.859375 6.046875 34.765625 \r\nQ 7.8125 38.671875 11.328125 44.53125 \r\nL 27.34375 69.53125 \r\nL 36.328125 69.53125 \r\nL 19.921875 43.75 \r\nQ 30.46875 46.484375 36.71875 42.96875 \r\nQ 42.96875 39.453125 45.109375 34.953125 \r\nQ 47.265625 30.46875 47.453125 25.1875 \r\nQ 47.65625 19.921875 45.890625 14.84375 \r\nQ 44.140625 9.765625 39.640625 5.65625 \r\nQ 35.15625 1.5625 27.140625 1.171875 \r\nQ 19.140625 0.78125 13.46875 4.09375 \r\nQ 7.8125 7.421875 5.65625 13.46875 \r\nQ 3.515625 19.53125 4.296875 30.859375 \r\nz\r\nM 12.5 16.015625 \r\nQ 19.53125 8.59375 25.390625 8.203125 \r\nQ 31.25 7.8125 35.15625 12.109375 \r\nQ 39.0625 16.40625 39.0625 24.609375 \r\nQ 39.0625 32.8125 34.171875 35.9375 \r\nQ 29.296875 39.0625 23.234375 38.28125 \r\nQ 17.1875 37.5 14.453125 32.421875 \r\nQ 11.71875 27.34375 12.109375 21.671875 \r\nQ 12.5 16.015625 19.53125 8.59375 \r\nz\r\n\" id=\"SimHei-54\"/>\r\n       </defs>\r\n       <use xlink:href=\"#SimHei-54\"/>\r\n      </g>\r\n     </g>\r\n    </g>\r\n    <g id=\"xtick_5\">\r\n     <g id=\"line2d_5\">\r\n      <g>\r\n       <use style=\"stroke:#000000;stroke-width:0.8;\" x=\"287.909091\" xlink:href=\"#m73c876bf92\" y=\"224.64\"/>\r\n      </g>\r\n     </g>\r\n     <g id=\"text_5\">\r\n      <!-- 8 -->\r\n      <g transform=\"translate(285.409091 238.515)scale(0.1 -0.1)\">\r\n       <defs>\r\n        <path d=\"M 2.734375 16.796875 \r\nQ 2.734375 26.171875 5.078125 30.65625 \r\nQ 7.421875 35.15625 12.890625 37.890625 \r\nQ 8.203125 40.625 6.640625 43.9375 \r\nQ 5.078125 47.265625 4.875 51.5625 \r\nQ 4.6875 55.859375 6.046875 58.984375 \r\nQ 7.421875 62.109375 10.15625 64.84375 \r\nQ 12.890625 67.578125 16.203125 68.546875 \r\nQ 19.53125 69.53125 23.4375 69.53125 \r\nQ 27.34375 69.53125 30.46875 68.75 \r\nQ 33.59375 67.96875 37.109375 65.421875 \r\nQ 40.625 62.890625 42.1875 58.203125 \r\nQ 43.75 53.515625 41.984375 47.265625 \r\nQ 40.234375 41.015625 32.8125 37.5 \r\nQ 39.453125 35.546875 42.1875 31.4375 \r\nQ 44.921875 27.34375 44.921875 21.484375 \r\nQ 44.921875 15.625 43.15625 12.109375 \r\nQ 41.40625 8.59375 39.25 6.25 \r\nQ 37.109375 3.90625 33.390625 2.53125 \r\nQ 29.6875 1.171875 24.015625 1.171875 \r\nQ 18.359375 1.171875 14.25 2.53125 \r\nQ 10.15625 3.90625 7.421875 6.640625 \r\nQ 4.6875 9.375 3.703125 13.078125 \r\nQ 2.734375 16.796875 2.734375 26.171875 \r\nz\r\nM 10.9375 26.5625 \r\nQ 10.546875 17.1875 12.296875 13.671875 \r\nQ 14.0625 10.15625 18.75 9.171875 \r\nQ 23.4375 8.203125 28.515625 9.375 \r\nQ 33.59375 10.546875 35.546875 14.84375 \r\nQ 37.5 19.140625 36.90625 23.4375 \r\nQ 36.328125 27.734375 32.03125 30.65625 \r\nQ 27.734375 33.59375 22.65625 33.203125 \r\nQ 17.578125 32.8125 14.25 29.6875 \r\nQ 10.9375 26.5625 10.546875 17.1875 \r\nz\r\nM 12.109375 56.25 \r\nQ 12.109375 48.4375 14.84375 44.921875 \r\nQ 17.578125 41.40625 23.4375 41.40625 \r\nQ 29.296875 41.40625 32.21875 44.921875 \r\nQ 35.15625 48.4375 34.953125 53.3125 \r\nQ 34.765625 58.203125 31.4375 60.546875 \r\nQ 28.125 62.890625 22.453125 62.5 \r\nQ 16.796875 62.109375 14.453125 59.171875 \r\nQ 12.109375 56.25 12.109375 48.4375 \r\nz\r\n\" id=\"SimHei-56\"/>\r\n       </defs>\r\n       <use xlink:href=\"#SimHei-56\"/>\r\n      </g>\r\n     </g>\r\n    </g>\r\n    <g id=\"xtick_6\">\r\n     <g id=\"line2d_6\">\r\n      <g>\r\n       <use style=\"stroke:#000000;stroke-width:0.8;\" x=\"348.781818\" xlink:href=\"#m73c876bf92\" y=\"224.64\"/>\r\n      </g>\r\n     </g>\r\n     <g id=\"text_6\">\r\n      <!-- 10 -->\r\n      <g transform=\"translate(343.781818 238.515)scale(0.1 -0.1)\">\r\n       <defs>\r\n        <path d=\"M 21.875 56.25 \r\nQ 16.796875 51.171875 8.984375 46.484375 \r\nL 8.984375 53.90625 \r\nQ 18.75 60.546875 25 69.53125 \r\nL 29.6875 69.53125 \r\nL 29.6875 2.34375 \r\nL 21.875 2.34375 \r\nz\r\n\" id=\"SimHei-49\"/>\r\n       </defs>\r\n       <use xlink:href=\"#SimHei-49\"/>\r\n       <use x=\"50\" xlink:href=\"#SimHei-48\"/>\r\n      </g>\r\n     </g>\r\n    </g>\r\n   </g>\r\n   <g id=\"matplotlib.axis_2\">\r\n    <g id=\"ytick_1\">\r\n     <g id=\"line2d_7\">\r\n      <defs>\r\n       <path d=\"M 0 0 \r\nL -3.5 0 \r\n\" id=\"m5cf28464cb\" style=\"stroke:#000000;stroke-width:0.8;\"/>\r\n      </defs>\r\n      <g>\r\n       <use style=\"stroke:#000000;stroke-width:0.8;\" x=\"29.2\" xlink:href=\"#m5cf28464cb\" y=\"224.64\"/>\r\n      </g>\r\n     </g>\r\n     <g id=\"text_7\">\r\n      <!-- 0 -->\r\n      <g transform=\"translate(17.2 228.0775)scale(0.1 -0.1)\">\r\n       <use xlink:href=\"#SimHei-48\"/>\r\n      </g>\r\n     </g>\r\n    </g>\r\n    <g id=\"ytick_2\">\r\n     <g id=\"line2d_8\">\r\n      <g>\r\n       <use style=\"stroke:#000000;stroke-width:0.8;\" x=\"29.2\" xlink:href=\"#m5cf28464cb\" y=\"199.986939\"/>\r\n      </g>\r\n     </g>\r\n     <g id=\"text_8\">\r\n      <!-- 100 -->\r\n      <g transform=\"translate(7.2 203.424439)scale(0.1 -0.1)\">\r\n       <use xlink:href=\"#SimHei-49\"/>\r\n       <use x=\"50\" xlink:href=\"#SimHei-48\"/>\r\n       <use x=\"100\" xlink:href=\"#SimHei-48\"/>\r\n      </g>\r\n     </g>\r\n    </g>\r\n    <g id=\"ytick_3\">\r\n     <g id=\"line2d_9\">\r\n      <g>\r\n       <use style=\"stroke:#000000;stroke-width:0.8;\" x=\"29.2\" xlink:href=\"#m5cf28464cb\" y=\"175.333878\"/>\r\n      </g>\r\n     </g>\r\n     <g id=\"text_9\">\r\n      <!-- 200 -->\r\n      <g transform=\"translate(7.2 178.771378)scale(0.1 -0.1)\">\r\n       <use xlink:href=\"#SimHei-50\"/>\r\n       <use x=\"50\" xlink:href=\"#SimHei-48\"/>\r\n       <use x=\"100\" xlink:href=\"#SimHei-48\"/>\r\n      </g>\r\n     </g>\r\n    </g>\r\n    <g id=\"ytick_4\">\r\n     <g id=\"line2d_10\">\r\n      <g>\r\n       <use style=\"stroke:#000000;stroke-width:0.8;\" x=\"29.2\" xlink:href=\"#m5cf28464cb\" y=\"150.680816\"/>\r\n      </g>\r\n     </g>\r\n     <g id=\"text_10\">\r\n      <!-- 300 -->\r\n      <g transform=\"translate(7.2 154.118316)scale(0.1 -0.1)\">\r\n       <defs>\r\n        <path d=\"M 3.90625 19.140625 \r\nL 10.9375 20.3125 \r\nQ 12.5 15.234375 16.015625 11.90625 \r\nQ 19.53125 8.59375 24.796875 8.78125 \r\nQ 30.078125 8.984375 33.203125 13.078125 \r\nQ 36.328125 17.1875 35.9375 22.453125 \r\nQ 35.546875 27.734375 31.828125 30.65625 \r\nQ 28.125 33.59375 19.921875 34.765625 \r\nL 19.921875 39.84375 \r\nQ 28.125 40.625 31.828125 44.140625 \r\nQ 35.546875 47.65625 35.15625 53.3125 \r\nQ 34.765625 58.984375 30.078125 61.515625 \r\nQ 25.390625 64.0625 20.109375 62.109375 \r\nQ 14.84375 60.15625 11.71875 51.171875 \r\nL 4.6875 52.34375 \r\nQ 7.03125 59.375 11.125 64.0625 \r\nQ 15.234375 68.75 22.265625 69.53125 \r\nQ 29.296875 70.3125 34.5625 67.765625 \r\nQ 39.84375 65.234375 41.984375 59.953125 \r\nQ 44.140625 54.6875 42.578125 48.4375 \r\nQ 41.015625 42.1875 33.59375 37.5 \r\nQ 39.0625 35.15625 41.984375 30.46875 \r\nQ 44.921875 25.78125 43.9375 18.15625 \r\nQ 42.96875 10.546875 37.109375 5.859375 \r\nQ 31.25 1.171875 23.828125 1.359375 \r\nQ 16.40625 1.5625 10.9375 6.046875 \r\nQ 5.46875 10.546875 3.90625 19.140625 \r\nz\r\n\" id=\"SimHei-51\"/>\r\n       </defs>\r\n       <use xlink:href=\"#SimHei-51\"/>\r\n       <use x=\"50\" xlink:href=\"#SimHei-48\"/>\r\n       <use x=\"100\" xlink:href=\"#SimHei-48\"/>\r\n      </g>\r\n     </g>\r\n    </g>\r\n    <g id=\"ytick_5\">\r\n     <g id=\"line2d_11\">\r\n      <g>\r\n       <use style=\"stroke:#000000;stroke-width:0.8;\" x=\"29.2\" xlink:href=\"#m5cf28464cb\" y=\"126.027755\"/>\r\n      </g>\r\n     </g>\r\n     <g id=\"text_11\">\r\n      <!-- 400 -->\r\n      <g transform=\"translate(7.2 129.465255)scale(0.1 -0.1)\">\r\n       <use xlink:href=\"#SimHei-52\"/>\r\n       <use x=\"50\" xlink:href=\"#SimHei-48\"/>\r\n       <use x=\"100\" xlink:href=\"#SimHei-48\"/>\r\n      </g>\r\n     </g>\r\n    </g>\r\n    <g id=\"ytick_6\">\r\n     <g id=\"line2d_12\">\r\n      <g>\r\n       <use style=\"stroke:#000000;stroke-width:0.8;\" x=\"29.2\" xlink:href=\"#m5cf28464cb\" y=\"101.374694\"/>\r\n      </g>\r\n     </g>\r\n     <g id=\"text_12\">\r\n      <!-- 500 -->\r\n      <g transform=\"translate(7.2 104.812194)scale(0.1 -0.1)\">\r\n       <defs>\r\n        <path d=\"M 8.59375 20.703125 \r\nQ 11.328125 10.15625 17.96875 8.984375 \r\nQ 24.609375 7.8125 28.703125 10.34375 \r\nQ 32.8125 12.890625 34.5625 16.984375 \r\nQ 36.328125 21.09375 36.125 26.171875 \r\nQ 35.9375 31.25 33.390625 34.765625 \r\nQ 30.859375 38.28125 26.953125 39.453125 \r\nQ 23.046875 40.625 18.15625 39.453125 \r\nQ 13.28125 38.28125 10.15625 33.984375 \r\nL 3.515625 34.765625 \r\nQ 4.296875 37.109375 10.9375 68.359375 \r\nL 41.796875 68.359375 \r\nL 41.796875 61.328125 \r\nL 16.796875 61.328125 \r\nQ 14.84375 50.78125 12.890625 44.53125 \r\nQ 18.75 47.265625 23.828125 47.0625 \r\nQ 28.90625 46.875 33.59375 44.71875 \r\nQ 38.28125 42.578125 40.421875 38.859375 \r\nQ 42.578125 35.15625 43.546875 31.4375 \r\nQ 44.53125 27.734375 44.328125 23.4375 \r\nQ 44.140625 19.140625 42.578125 14.640625 \r\nQ 41.015625 10.15625 37.890625 7.21875 \r\nQ 34.765625 4.296875 30.265625 2.53125 \r\nQ 25.78125 0.78125 19.921875 1.171875 \r\nQ 14.0625 1.5625 8.78125 5.46875 \r\nQ 3.515625 9.375 1.5625 18.75 \r\nz\r\n\" id=\"SimHei-53\"/>\r\n       </defs>\r\n       <use xlink:href=\"#SimHei-53\"/>\r\n       <use x=\"50\" xlink:href=\"#SimHei-48\"/>\r\n       <use x=\"100\" xlink:href=\"#SimHei-48\"/>\r\n      </g>\r\n     </g>\r\n    </g>\r\n    <g id=\"ytick_7\">\r\n     <g id=\"line2d_13\">\r\n      <g>\r\n       <use style=\"stroke:#000000;stroke-width:0.8;\" x=\"29.2\" xlink:href=\"#m5cf28464cb\" y=\"76.721633\"/>\r\n      </g>\r\n     </g>\r\n     <g id=\"text_13\">\r\n      <!-- 600 -->\r\n      <g transform=\"translate(7.2 80.159133)scale(0.1 -0.1)\">\r\n       <use xlink:href=\"#SimHei-54\"/>\r\n       <use x=\"50\" xlink:href=\"#SimHei-48\"/>\r\n       <use x=\"100\" xlink:href=\"#SimHei-48\"/>\r\n      </g>\r\n     </g>\r\n    </g>\r\n    <g id=\"ytick_8\">\r\n     <g id=\"line2d_14\">\r\n      <g>\r\n       <use style=\"stroke:#000000;stroke-width:0.8;\" x=\"29.2\" xlink:href=\"#m5cf28464cb\" y=\"52.068571\"/>\r\n      </g>\r\n     </g>\r\n     <g id=\"text_14\">\r\n      <!-- 700 -->\r\n      <g transform=\"translate(7.2 55.506071)scale(0.1 -0.1)\">\r\n       <defs>\r\n        <path d=\"M 13.28125 2.34375 \r\nQ 20.3125 32.03125 37.890625 61.328125 \r\nL 4.296875 61.328125 \r\nL 4.296875 68.359375 \r\nL 46.09375 68.359375 \r\nL 46.09375 61.71875 \r\nQ 27.734375 32.03125 21.875 2.34375 \r\nL 13.28125 2.34375 \r\nz\r\n\" id=\"SimHei-55\"/>\r\n       </defs>\r\n       <use xlink:href=\"#SimHei-55\"/>\r\n       <use x=\"50\" xlink:href=\"#SimHei-48\"/>\r\n       <use x=\"100\" xlink:href=\"#SimHei-48\"/>\r\n      </g>\r\n     </g>\r\n    </g>\r\n    <g id=\"ytick_9\">\r\n     <g id=\"line2d_15\">\r\n      <g>\r\n       <use style=\"stroke:#000000;stroke-width:0.8;\" x=\"29.2\" xlink:href=\"#m5cf28464cb\" y=\"27.41551\"/>\r\n      </g>\r\n     </g>\r\n     <g id=\"text_15\">\r\n      <!-- 800 -->\r\n      <g transform=\"translate(7.2 30.85301)scale(0.1 -0.1)\">\r\n       <use xlink:href=\"#SimHei-56\"/>\r\n       <use x=\"50\" xlink:href=\"#SimHei-48\"/>\r\n       <use x=\"100\" xlink:href=\"#SimHei-48\"/>\r\n      </g>\r\n     </g>\r\n    </g>\r\n   </g>\r\n   <g id=\"patch_103\">\r\n    <path d=\"M 29.2 224.64 \r\nL 29.2 7.2 \r\n\" style=\"fill:none;stroke:#000000;stroke-linecap:square;stroke-linejoin:miter;stroke-width:0.8;\"/>\r\n   </g>\r\n   <g id=\"patch_104\">\r\n    <path d=\"M 364 224.64 \r\nL 364 7.2 \r\n\" style=\"fill:none;stroke:#000000;stroke-linecap:square;stroke-linejoin:miter;stroke-width:0.8;\"/>\r\n   </g>\r\n   <g id=\"patch_105\">\r\n    <path d=\"M 29.2 224.64 \r\nL 364 224.64 \r\n\" style=\"fill:none;stroke:#000000;stroke-linecap:square;stroke-linejoin:miter;stroke-width:0.8;\"/>\r\n   </g>\r\n   <g id=\"patch_106\">\r\n    <path d=\"M 29.2 7.2 \r\nL 364 7.2 \r\n\" style=\"fill:none;stroke:#000000;stroke-linecap:square;stroke-linejoin:miter;stroke-width:0.8;\"/>\r\n   </g>\r\n  </g>\r\n </g>\r\n <defs>\r\n  <clipPath id=\"p6f589562d4\">\r\n   <rect height=\"217.44\" width=\"334.8\" x=\"29.2\" y=\"7.2\"/>\r\n  </clipPath>\r\n </defs>\r\n</svg>\r\n",
      "image/png": "[encoded data removed]"
     },
     "metadata": {
      "needs_background": "light"
     }
    }
   ],
   "source": [
    "plt.hist(x = ipo_df['prob_online'], bins = 100, range = (0, 10))"
   ]
  },
  {
   "cell_type": "code",
   "execution_count": 68,
   "metadata": {},
   "outputs": [
    {
     "output_type": "execute_result",
     "data": {
      "text/plain": "    ticker  name  price_issue  price_latest  prob_online  sub_size_online  \\\n54  603109  神驰机电        18.38         26.48      0.03515      93892836000   \n55  603995  甬金股份        22.52         33.26      0.04462     116334072000   \n56  601512  中新集团         9.67         11.56      0.08831     152755117000   \n57  603053  成都燃气        10.45         14.47      0.06641     120466360000   \n58  601658  邮储银行         5.50          4.58      1.25915     205383291000   \n\n    subs_online  over_online  prob_offline  sub_size_offline  subs_offline  \\\n54     12131674      2844.98      0.011563       31714300000          7312   \n55     11366524      2241.37      0.012767       45171000000          6986   \n56     11257993      1132.35      0.039017       38416500000          6439   \n57     10990417      1505.81      0.022430       39629800000          7226   \n58      8882002        79.42      4.773505       27087900000          2399   \n\n    over_offline  size_total  list_premium  return_firstday return_ipo  \\\n54       8648.57    36670000        0.2002           0.4402       0.03   \n55       7832.67    57670000        0.1998           0.4401       0.02   \n56       2562.98   149890000        0.1996           0.4395       0.06   \n57       4458.30    88890000        0.2000           0.4402       0.06   \n58         20.95  5947988200        0.0182           0.0200       0.02   \n\n    list_date market  prob_all  \n54 2019-12-31     sh  0.035136  \n55 2019-12-24     sh  0.044600  \n56 2019-12-20     sh  0.088282  \n57 2019-12-17     sh  0.066381  \n58 2019-12-10     sh  1.260099  ",
      "text/html": "<div>\n<style scoped>\n    .dataframe tbody tr th:only-of-type {\n        vertical-align: middle;\n    }\n\n    .dataframe tbody tr th {\n        vertical-align: top;\n    }\n\n    .dataframe thead th {\n        text-align: right;\n    }\n</style>\n<table border=\"1\" class=\"dataframe\">\n  <thead>\n    <tr style=\"text-align: right;\">\n      <th></th>\n      <th>ticker</th>\n      <th>name</th>\n      <th>price_issue</th>\n      <th>price_latest</th>\n      <th>prob_online</th>\n      <th>sub_size_online</th>\n      <th>subs_online</th>\n      <th>over_online</th>\n      <th>prob_offline</th>\n      <th>sub_size_offline</th>\n      <th>subs_offline</th>\n      <th>over_offline</th>\n      <th>size_total</th>\n      <th>list_premium</th>\n      <th>return_firstday</th>\n      <th>return_ipo</th>\n      <th>list_date</th>\n      <th>market</th>\n      <th>prob_all</th>\n    </tr>\n  </thead>\n  <tbody>\n    <tr>\n      <th>54</th>\n      <td>603109</td>\n      <td>神驰机电</td>\n      <td>18.38</td>\n      <td>26.48</td>\n      <td>0.03515</td>\n      <td>93892836000</td>\n      <td>12131674</td>\n      <td>2844.98</td>\n      <td>0.011563</td>\n      <td>31714300000</td>\n      <td>7312</td>\n      <td>8648.57</td>\n      <td>36670000</td>\n      <td>0.2002</td>\n      <td>0.4402</td>\n      <td>0.03</td>\n      <td>2019-12-31</td>\n      <td>sh</td>\n      <td>0.035136</td>\n    </tr>\n    <tr>\n      <th>55</th>\n      <td>603995</td>\n      <td>甬金股份</td>\n      <td>22.52</td>\n      <td>33.26</td>\n      <td>0.04462</td>\n      <td>116334072000</td>\n      <td>11366524</td>\n      <td>2241.37</td>\n      <td>0.012767</td>\n      <td>45171000000</td>\n      <td>6986</td>\n      <td>7832.67</td>\n      <td>57670000</td>\n      <td>0.1998</td>\n      <td>0.4401</td>\n      <td>0.02</td>\n      <td>2019-12-24</td>\n      <td>sh</td>\n      <td>0.044600</td>\n    </tr>\n    <tr>\n      <th>56</th>\n      <td>601512</td>\n      <td>中新集团</td>\n      <td>9.67</td>\n      <td>11.56</td>\n      <td>0.08831</td>\n      <td>152755117000</td>\n      <td>11257993</td>\n      <td>1132.35</td>\n      <td>0.039017</td>\n      <td>38416500000</td>\n      <td>6439</td>\n      <td>2562.98</td>\n      <td>149890000</td>\n      <td>0.1996</td>\n      <td>0.4395</td>\n      <td>0.06</td>\n      <td>2019-12-20</td>\n      <td>sh</td>\n      <td>0.088282</td>\n    </tr>\n    <tr>\n      <th>57</th>\n      <td>603053</td>\n      <td>成都燃气</td>\n      <td>10.45</td>\n      <td>14.47</td>\n      <td>0.06641</td>\n      <td>120466360000</td>\n      <td>10990417</td>\n      <td>1505.81</td>\n      <td>0.022430</td>\n      <td>39629800000</td>\n      <td>7226</td>\n      <td>4458.30</td>\n      <td>88890000</td>\n      <td>0.2000</td>\n      <td>0.4402</td>\n      <td>0.06</td>\n      <td>2019-12-17</td>\n      <td>sh</td>\n      <td>0.066381</td>\n    </tr>\n    <tr>\n      <th>58</th>\n      <td>601658</td>\n      <td>邮储银行</td>\n      <td>5.50</td>\n      <td>4.58</td>\n      <td>1.25915</td>\n      <td>205383291000</td>\n      <td>8882002</td>\n      <td>79.42</td>\n      <td>4.773505</td>\n      <td>27087900000</td>\n      <td>2399</td>\n      <td>20.95</td>\n      <td>5947988200</td>\n      <td>0.0182</td>\n      <td>0.0200</td>\n      <td>0.02</td>\n      <td>2019-12-10</td>\n      <td>sh</td>\n      <td>1.260099</td>\n    </tr>\n  </tbody>\n</table>\n</div>"
     },
     "metadata": {},
     "execution_count": 68
    }
   ],
   "source": [
    "ipo_df.head()"
   ]
  },
  {
   "cell_type": "code",
   "execution_count": 115,
   "metadata": {},
   "outputs": [
    {
     "output_type": "execute_result",
     "data": {
      "text/plain": "656     24.68644\n664     21.56808\n1088    65.52084\nName: prob_online, dtype: float64"
     },
     "metadata": {},
     "execution_count": 115
    }
   ],
   "source": [
    "ipo_df['prob_online'][ipo_df['prob_online']>20]"
   ]
  },
  {
   "cell_type": "code",
   "execution_count": 118,
   "metadata": {},
   "outputs": [
    {
     "output_type": "execute_result",
     "data": {
      "text/plain": "632     66.666667\n634     70.000000\n680     63.391272\n1078    90.909090\n1868    66.670000\nName: prob_offline, dtype: float64"
     },
     "metadata": {},
     "execution_count": 118
    }
   ],
   "source": [
    "ipo_df['prob_offline'][ipo_df['prob_offline']>60]"
   ]
  },
  {
   "cell_type": "code",
   "execution_count": 119,
   "metadata": {},
   "outputs": [
    {
     "output_type": "execute_result",
     "data": {
      "text/plain": "1088    65.508859\nName: prob_all, dtype: float64"
     },
     "metadata": {},
     "execution_count": 119
    }
   ],
   "source": [
    "ipo_df['prob_all'][ipo_df['prob_all']>60]"
   ]
  }
 ],
 "metadata": {
  "kernelspec": {
   "display_name": "Python 3.8.5 32-bit",
   "language": "python",
   "name": "python38532bit3742f5a146024ad6a362f86c84c1277c"
  },
  "language_info": {
   "codemirror_mode": {
    "name": "ipython",
    "version": 3
   },
   "file_extension": ".py",
   "mimetype": "text/x-python",
   "name": "python",
   "nbconvert_exporter": "python",
   "pygments_lexer": "ipython3",
   "version": "3.8.5-final"
  }
 },
 "nbformat": 4,
 "nbformat_minor": 4
}