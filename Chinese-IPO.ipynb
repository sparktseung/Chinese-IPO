{
 "metadata": {
  "language_info": {
   "codemirror_mode": {
    "name": "ipython",
    "version": 3
   },
   "file_extension": ".py",
   "mimetype": "text/x-python",
   "name": "python",
   "nbconvert_exporter": "python",
   "pygments_lexer": "ipython3",
   "version": "3.8.5-final"
  },
  "orig_nbformat": 2,
  "kernelspec": {
   "name": "python38532bit3742f5a146024ad6a362f86c84c1277c",
   "display_name": "Python 3.8.5 32-bit"
  }
 },
 "nbformat": 4,
 "nbformat_minor": 2,
 "cells": [
  {
   "cell_type": "markdown",
   "metadata": {},
   "source": [
    "# Can you make big money on Chinese stock IPO?"
   ]
  },
  {
   "cell_type": "markdown",
   "metadata": {},
   "source": [
    "**Author**: [Spark Tseung](https://sparktseung.com)\n",
    "\n",
    "**Source Code**: [github](https://github.com/sparktseung/Chinese-IPO) \n",
    "\n",
    "**Last Modified**: Sept 10, 2020"
   ]
  },
  {
   "cell_type": "markdown",
   "metadata": {},
   "source": [
    "## Introduction\n",
    "\n",
    "About two years ago, I started to have some extra money for investing. After a few trial-and-errors, I have resorted to regular purchase of a low-fee Exchange Traded Fund (ETF) tracking the US market index - the cost of \"beating the market\" just seems too high, and an average of 7~8% per year is already a very decent return.\n",
    "\n",
    "I have been all content with that until a friend of mine mentioned the unbelievably high return on purchasing the Initial Public Offerings (IPO) of Chinese stocks. He claimed that, if you are lucky enough to be assigned some units during an IPO, the return on the first day of public trading is quite significant (e.g. 100%+). However, it is generally quite difficult to obtain those IPOs in the first place, so it is almost like buying a lottery.\n",
    "\n",
    "Unfamiliar with, and intentially staying away from, the Chinese stock market, I was quite suspicious at first, but a quick search on the Internet has my confidence shaken. Therefore, being a student in statistics, I naturally started to dig into a pool of data, trying to find out if one can make some big money from Chinese stock IPOs. More specifically, I would like to see if one can make profits by obtaining stocks from IPOs and then selling them shortly after the public trading starts."
   ]
  },
  {
   "cell_type": "markdown",
   "metadata": {},
   "source": [
    "## Getting the Data\n",
    "\n",
    "There are not a lot of data source available for the issue prices of IPOs in the Chinese market. The best I can find is the `akshare` package in Python, which in turn pulls IPO data from [eastmoney](http://data.eastmoney.com/xg/xg/dxsyl.html), a Chinese stock broker."
   ]
  },
  {
   "cell_type": "code",
   "execution_count": 1,
   "metadata": {
    "tags": []
   },
   "outputs": [],
   "source": [
    "# Load required packages\n",
    "import akshare as ak\n",
    "import numpy as np\n",
    "import pandas as pd"
   ]
  },
  {
   "cell_type": "code",
   "execution_count": 2,
   "metadata": {
    "tags": []
   },
   "outputs": [
    {
     "output_type": "stream",
     "name": "stderr",
     "text": "100%|██████████| 15/15 [00:06<00:00,  2.41it/s]\n100%|██████████| 13/13 [00:06<00:00,  1.93it/s]\n100%|██████████| 17/17 [00:07<00:00,  2.21it/s]\n"
    }
   ],
   "source": [
    "# IPO data for stocks traded on Shanghai Stock Exchange\n",
    "# Mostly blue-chip stocks\n",
    "ipo_shzb_df = ak.stock_em_dxsyl(market=\"上海主板\")\n",
    "# IPO data for stocks traded on Shenzhen Stock Exchange\n",
    "# Mostly smaller companies\n",
    "ipo_szzx_df = ak.stock_em_dxsyl(market=\"中小板\")\n",
    "ipo_szcy_df = ak.stock_em_dxsyl(market=\"创业板\")"
   ]
  },
  {
   "cell_type": "markdown",
   "metadata": {},
   "source": [
    "All three dataframes are very similar in terms of structure, so I will only show the data from Shanghai."
   ]
  },
  {
   "cell_type": "code",
   "execution_count": 3,
   "metadata": {
    "tags": []
   },
   "outputs": [
    {
     "output_type": "execute_result",
     "data": {
      "text/plain": "     股票代码  股票简称    发行价    最新价  网上发行中签率      网上有效申购股数  网上有效申购户数 网上超额认购倍数  \\\n0  605358   立昂微   4.92         0.03197  114224888000  15990041  3127.56   \n1  605009  豪悦护理  62.26         0.02382  100758868000  15783007  4197.76   \n2  605003  众望布艺  25.75  33.37  0.02346   84382582000  15347203  4261.75   \n3  601702  华峰铝业   3.69   7.06  0.08734  257234929000  15063983  1144.96   \n4  605006  山东玻纤   3.84   8.91  0.04813  186996036000  15894809  2077.73   \n\n      网下配售中签率      网下有效申购股数 网下有效申购户数  网下配售认购倍数      总发行数量    开盘溢价    首日涨幅  \\\n0  0.00446855   90812500000     9112  22378.63   40580000                   \n1  0.01456494   18311100000     9316    6865.8   26670000                   \n2  0.01675539   13130100000     8208   5968.23   22000000  0.4400  0.4400   \n3   0.0166057  150327900000     9346   6022.03  249630000  0.2005  0.4390   \n4  0.00788046  126896100000     9114  12689.61  100000000  0.2005  0.4401   \n\n   打新收益        上市日期  市场  \n0        2020-09-11  sh  \n1        2020-09-11  sh  \n2  0.01  2020-09-08  sh  \n3        2020-09-07  sh  \n4        2020-09-03  sh  ",
      "text/html": "<div>\n<style scoped>\n    .dataframe tbody tr th:only-of-type {\n        vertical-align: middle;\n    }\n\n    .dataframe tbody tr th {\n        vertical-align: top;\n    }\n\n    .dataframe thead th {\n        text-align: right;\n    }\n</style>\n<table border=\"1\" class=\"dataframe\">\n  <thead>\n    <tr style=\"text-align: right;\">\n      <th></th>\n      <th>股票代码</th>\n      <th>股票简称</th>\n      <th>发行价</th>\n      <th>最新价</th>\n      <th>网上发行中签率</th>\n      <th>网上有效申购股数</th>\n      <th>网上有效申购户数</th>\n      <th>网上超额认购倍数</th>\n      <th>网下配售中签率</th>\n      <th>网下有效申购股数</th>\n      <th>网下有效申购户数</th>\n      <th>网下配售认购倍数</th>\n      <th>总发行数量</th>\n      <th>开盘溢价</th>\n      <th>首日涨幅</th>\n      <th>打新收益</th>\n      <th>上市日期</th>\n      <th>市场</th>\n    </tr>\n  </thead>\n  <tbody>\n    <tr>\n      <th>0</th>\n      <td>605358</td>\n      <td>立昂微</td>\n      <td>4.92</td>\n      <td></td>\n      <td>0.03197</td>\n      <td>114224888000</td>\n      <td>15990041</td>\n      <td>3127.56</td>\n      <td>0.00446855</td>\n      <td>90812500000</td>\n      <td>9112</td>\n      <td>22378.63</td>\n      <td>40580000</td>\n      <td></td>\n      <td></td>\n      <td></td>\n      <td>2020-09-11</td>\n      <td>sh</td>\n    </tr>\n    <tr>\n      <th>1</th>\n      <td>605009</td>\n      <td>豪悦护理</td>\n      <td>62.26</td>\n      <td></td>\n      <td>0.02382</td>\n      <td>100758868000</td>\n      <td>15783007</td>\n      <td>4197.76</td>\n      <td>0.01456494</td>\n      <td>18311100000</td>\n      <td>9316</td>\n      <td>6865.8</td>\n      <td>26670000</td>\n      <td></td>\n      <td></td>\n      <td></td>\n      <td>2020-09-11</td>\n      <td>sh</td>\n    </tr>\n    <tr>\n      <th>2</th>\n      <td>605003</td>\n      <td>众望布艺</td>\n      <td>25.75</td>\n      <td>33.37</td>\n      <td>0.02346</td>\n      <td>84382582000</td>\n      <td>15347203</td>\n      <td>4261.75</td>\n      <td>0.01675539</td>\n      <td>13130100000</td>\n      <td>8208</td>\n      <td>5968.23</td>\n      <td>22000000</td>\n      <td>0.4400</td>\n      <td>0.4400</td>\n      <td>0.01</td>\n      <td>2020-09-08</td>\n      <td>sh</td>\n    </tr>\n    <tr>\n      <th>3</th>\n      <td>601702</td>\n      <td>华峰铝业</td>\n      <td>3.69</td>\n      <td>7.06</td>\n      <td>0.08734</td>\n      <td>257234929000</td>\n      <td>15063983</td>\n      <td>1144.96</td>\n      <td>0.0166057</td>\n      <td>150327900000</td>\n      <td>9346</td>\n      <td>6022.03</td>\n      <td>249630000</td>\n      <td>0.2005</td>\n      <td>0.4390</td>\n      <td></td>\n      <td>2020-09-07</td>\n      <td>sh</td>\n    </tr>\n    <tr>\n      <th>4</th>\n      <td>605006</td>\n      <td>山东玻纤</td>\n      <td>3.84</td>\n      <td>8.91</td>\n      <td>0.04813</td>\n      <td>186996036000</td>\n      <td>15894809</td>\n      <td>2077.73</td>\n      <td>0.00788046</td>\n      <td>126896100000</td>\n      <td>9114</td>\n      <td>12689.61</td>\n      <td>100000000</td>\n      <td>0.2005</td>\n      <td>0.4401</td>\n      <td></td>\n      <td>2020-09-03</td>\n      <td>sh</td>\n    </tr>\n  </tbody>\n</table>\n</div>"
     },
     "metadata": {},
     "execution_count": 3
    }
   ],
   "source": [
    "ipo_shzb_df.head()"
   ]
  }
 ]
}