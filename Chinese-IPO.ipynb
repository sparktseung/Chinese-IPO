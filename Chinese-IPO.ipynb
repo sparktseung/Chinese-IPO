{
 "cells": [
  {
   "cell_type": "markdown",
   "metadata": {},
   "source": [
    "# Can you make big money on Chinese stock IPO?"
   ]
  },
  {
   "cell_type": "markdown",
   "metadata": {},
   "source": [
    "**Author**: [Spark Tseung](https://sparktseung.com)\n",
    "\n",
    "**Source Code**: [github](https://github.com/sparktseung/Chinese-IPO) \n",
    "\n",
    "**Last Modified**: Sept 10, 2020"
   ]
  },
  {
   "cell_type": "markdown",
   "metadata": {},
   "source": [
    "## Introduction\n",
    "\n",
    "About two years ago, I started to have some extra money for investing. After a few trial-and-errors, I have resorted to regular purchase of a low-fee Exchange Traded Fund (ETF) tracking the US market index - the cost of \"beating the market\" just seems too high, and an average of 7~8% per year is already a very decent return.\n",
    "\n",
    "I have been all content with that until a friend of mine mentioned the unbelievably high return on purchasing the Initial Public Offerings (IPO) of Chinese stocks. He claimed that, if you are lucky enough to be assigned some units during an IPO, the return on the first day of public trading is quite significant (e.g. 100%+). However, it is generally quite difficult to obtain those IPOs in the first place, so it is almost like buying a lottery.\n",
    "\n",
    "Unfamiliar with, and intentially staying away from, the Chinese stock market, I was quite suspicious at first, but a quick search on the Internet has my confidence shaken. Therefore, being a student in statistics, I naturally started to dig into a pool of data, trying to find out if one can make some big money from Chinese stock IPOs. More specifically, I would like to see if one can make profits by obtaining stocks from IPOs and then selling them shortly after the public trading starts."
   ]
  },
  {
   "cell_type": "markdown",
   "metadata": {},
   "source": [
    "## Getting the Data\n",
    "\n",
    "There are not a lot of data source available for the issue prices of IPOs in the Chinese market. The best I can find is the `akshare` package in Python, which in turn pulls IPO data from [eastmoney](http://data.eastmoney.com/xg/xg/dxsyl.html), a Chinese stock broker. They have three datasets of IPO, `sh` for (mostly) bluechip stocks traded on the Shanghai Stock Exchange, and `zxb`/`cyb` for smaller companies traded on the Shenzhen Stock Exchange. The first few rows are shown below."
   ]
  },
  {
   "cell_type": "code",
   "execution_count": 2,
   "metadata": {
    "tags": [
     "hidden_cell"
    ]
   },
   "outputs": [],
   "source": [
    "# Load required packages\n",
    "import akshare as ak\n",
    "import numpy as np\n",
    "import pandas as pd\n",
    "import datetime as dt\n",
    "\n",
    "# https://stackoverflow.com/questions/31517194/how-to-hide-one-specific-cell-input-or-output-in-ipython-notebook\n",
    "# This cell is tagged as \"hidden_cells\", so no input or output will show in the html file\n",
    "# python m nbconvert --to html Chinese-IPO.ipynb\n",
    "# --TagRemovePreprocessor.remove_cell_tags=\"{'hidden_cell'}\" --TagRemovePreprocessor.remove_all_outputs_tags=\"{'no_output'}\" --TagRemovePreprocessor.remove_input_tags=\"{'no_input'}\" \n",
    "# --no-prompt\n",
    "# Cell tags: hidden_cell, no_output, no_input\n",
    "# Start jupyterlab to edit the tags"
   ]
  },
  {
   "cell_type": "code",
   "execution_count": 3,
   "metadata": {
    "tags": [
     "hidden_cell"
    ]
   },
   "outputs": [
    {
     "name": "stderr",
     "output_type": "stream",
     "text": [
      "100%|██████████| 15/15 [00:07<00:00,  2.06it/s]\n",
      "100%|██████████| 13/13 [00:08<00:00,  1.54it/s]\n",
      "100%|██████████| 17/17 [00:07<00:00,  2.20it/s]\n"
     ]
    }
   ],
   "source": [
    "# IPO data for stocks traded on Shanghai Stock Exchange\n",
    "# Mostly blue-chip stocks\n",
    "ipo_shzb_df = ak.stock_em_dxsyl(market=\"上海主板\")\n",
    "# IPO data for stocks traded on Shenzhen Stock Exchange\n",
    "# Mostly smaller companies\n",
    "ipo_szzx_df = ak.stock_em_dxsyl(market=\"中小板\")\n",
    "ipo_szcy_df = ak.stock_em_dxsyl(market=\"创业板\")"
   ]
  },
  {
   "cell_type": "code",
   "execution_count": 4,
   "metadata": {
    "tags": [
     "no_input"
    ]
   },
   "outputs": [
    {
     "data": {
      "text/html": [
       "<div>\n",
       "<style scoped>\n",
       "    .dataframe tbody tr th:only-of-type {\n",
       "        vertical-align: middle;\n",
       "    }\n",
       "\n",
       "    .dataframe tbody tr th {\n",
       "        vertical-align: top;\n",
       "    }\n",
       "\n",
       "    .dataframe thead th {\n",
       "        text-align: right;\n",
       "    }\n",
       "</style>\n",
       "<table border=\"1\" class=\"dataframe\">\n",
       "  <thead>\n",
       "    <tr style=\"text-align: right;\">\n",
       "      <th></th>\n",
       "      <th>股票代码</th>\n",
       "      <th>股票简称</th>\n",
       "      <th>发行价</th>\n",
       "      <th>最新价</th>\n",
       "      <th>网上发行中签率</th>\n",
       "      <th>网上有效申购股数</th>\n",
       "      <th>网上有效申购户数</th>\n",
       "      <th>网上超额认购倍数</th>\n",
       "      <th>网下配售中签率</th>\n",
       "      <th>网下有效申购股数</th>\n",
       "      <th>网下有效申购户数</th>\n",
       "      <th>网下配售认购倍数</th>\n",
       "      <th>总发行数量</th>\n",
       "      <th>开盘溢价</th>\n",
       "      <th>首日涨幅</th>\n",
       "      <th>打新收益</th>\n",
       "      <th>上市日期</th>\n",
       "      <th>市场</th>\n",
       "    </tr>\n",
       "  </thead>\n",
       "  <tbody>\n",
       "    <tr>\n",
       "      <th>0</th>\n",
       "      <td>605358</td>\n",
       "      <td>N立昂微</td>\n",
       "      <td>4.92</td>\n",
       "      <td>7.08</td>\n",
       "      <td>0.03197</td>\n",
       "      <td>114224888000</td>\n",
       "      <td>15990041</td>\n",
       "      <td>3127.56</td>\n",
       "      <td>0.00446855</td>\n",
       "      <td>90812500000</td>\n",
       "      <td>9112</td>\n",
       "      <td>22378.63</td>\n",
       "      <td>40580000</td>\n",
       "      <td>0.1992</td>\n",
       "      <td>0.4390</td>\n",
       "      <td></td>\n",
       "      <td>2020-09-11</td>\n",
       "      <td>sh</td>\n",
       "    </tr>\n",
       "    <tr>\n",
       "      <th>1</th>\n",
       "      <td>605009</td>\n",
       "      <td>N豪悦</td>\n",
       "      <td>62.26</td>\n",
       "      <td>89.65</td>\n",
       "      <td>0.02382</td>\n",
       "      <td>100758868000</td>\n",
       "      <td>15783007</td>\n",
       "      <td>4197.76</td>\n",
       "      <td>0.01456494</td>\n",
       "      <td>18311100000</td>\n",
       "      <td>9316</td>\n",
       "      <td>6865.8</td>\n",
       "      <td>26670000</td>\n",
       "      <td>0.2000</td>\n",
       "      <td>0.4399</td>\n",
       "      <td></td>\n",
       "      <td>2020-09-11</td>\n",
       "      <td>sh</td>\n",
       "    </tr>\n",
       "    <tr>\n",
       "      <th>2</th>\n",
       "      <td>605003</td>\n",
       "      <td>众望布艺</td>\n",
       "      <td>25.75</td>\n",
       "      <td>31.38</td>\n",
       "      <td>0.02346</td>\n",
       "      <td>84382582000</td>\n",
       "      <td>15347203</td>\n",
       "      <td>4261.75</td>\n",
       "      <td>0.01675539</td>\n",
       "      <td>13130100000</td>\n",
       "      <td>8208</td>\n",
       "      <td>5968.23</td>\n",
       "      <td>22000000</td>\n",
       "      <td>0.4400</td>\n",
       "      <td>0.4400</td>\n",
       "      <td>0.01</td>\n",
       "      <td>2020-09-08</td>\n",
       "      <td>sh</td>\n",
       "    </tr>\n",
       "    <tr>\n",
       "      <th>3</th>\n",
       "      <td>601702</td>\n",
       "      <td>华峰铝业</td>\n",
       "      <td>3.69</td>\n",
       "      <td>7.77</td>\n",
       "      <td>0.08734</td>\n",
       "      <td>257234929000</td>\n",
       "      <td>15063983</td>\n",
       "      <td>1144.96</td>\n",
       "      <td>0.0166057</td>\n",
       "      <td>150327900000</td>\n",
       "      <td>9346</td>\n",
       "      <td>6022.03</td>\n",
       "      <td>249630000</td>\n",
       "      <td>0.2005</td>\n",
       "      <td>0.4390</td>\n",
       "      <td>0.09</td>\n",
       "      <td>2020-09-07</td>\n",
       "      <td>sh</td>\n",
       "    </tr>\n",
       "    <tr>\n",
       "      <th>4</th>\n",
       "      <td>605006</td>\n",
       "      <td>山东玻纤</td>\n",
       "      <td>3.84</td>\n",
       "      <td>9.80</td>\n",
       "      <td>0.04813</td>\n",
       "      <td>186996036000</td>\n",
       "      <td>15894809</td>\n",
       "      <td>2077.73</td>\n",
       "      <td>0.00788046</td>\n",
       "      <td>126896100000</td>\n",
       "      <td>9114</td>\n",
       "      <td>12689.61</td>\n",
       "      <td>100000000</td>\n",
       "      <td>0.2005</td>\n",
       "      <td>0.4401</td>\n",
       "      <td></td>\n",
       "      <td>2020-09-03</td>\n",
       "      <td>sh</td>\n",
       "    </tr>\n",
       "  </tbody>\n",
       "</table>\n",
       "</div>"
      ],
      "text/plain": [
       "     股票代码  股票简称    发行价    最新价  网上发行中签率      网上有效申购股数  网上有效申购户数 网上超额认购倍数  \\\n",
       "0  605358  N立昂微   4.92   7.08  0.03197  114224888000  15990041  3127.56   \n",
       "1  605009   N豪悦  62.26  89.65  0.02382  100758868000  15783007  4197.76   \n",
       "2  605003  众望布艺  25.75  31.38  0.02346   84382582000  15347203  4261.75   \n",
       "3  601702  华峰铝业   3.69   7.77  0.08734  257234929000  15063983  1144.96   \n",
       "4  605006  山东玻纤   3.84   9.80  0.04813  186996036000  15894809  2077.73   \n",
       "\n",
       "      网下配售中签率      网下有效申购股数 网下有效申购户数  网下配售认购倍数      总发行数量    开盘溢价    首日涨幅  \\\n",
       "0  0.00446855   90812500000     9112  22378.63   40580000  0.1992  0.4390   \n",
       "1  0.01456494   18311100000     9316    6865.8   26670000  0.2000  0.4399   \n",
       "2  0.01675539   13130100000     8208   5968.23   22000000  0.4400  0.4400   \n",
       "3   0.0166057  150327900000     9346   6022.03  249630000  0.2005  0.4390   \n",
       "4  0.00788046  126896100000     9114  12689.61  100000000  0.2005  0.4401   \n",
       "\n",
       "   打新收益        上市日期  市场  \n",
       "0        2020-09-11  sh  \n",
       "1        2020-09-11  sh  \n",
       "2  0.01  2020-09-08  sh  \n",
       "3  0.09  2020-09-07  sh  \n",
       "4        2020-09-03  sh  "
      ]
     },
     "execution_count": 4,
     "metadata": {},
     "output_type": "execute_result"
    }
   ],
   "source": [
    "ipo_shzb_df.head()"
   ]
  },
  {
   "cell_type": "code",
   "execution_count": 5,
   "metadata": {
    "tags": [
     "hidden_cell"
    ]
   },
   "outputs": [],
   "source": [
    "# Combine three datasets\n",
    "ipo_df = pd.concat([ipo_shzb_df, ipo_szzx_df, ipo_szcy_df], ignore_index = True, sort = False)\n",
    "# Rename columns in English\n",
    "ipo_df.rename(columns={\"股票代码\": \"ticker\", \"股票简称\": \"name\",\n",
    "                       \"发行价\": \"price_issue\", \"最新价\": \"price_latest\",\n",
    "                       \"网上发行中签率\": \"prob_online\", \"网上有效申购股数\": \"sub_size_online\",\n",
    "                       \"网上有效申购户数\": \"subs_online\",\"网上超额认购倍数\": \"over_online\",\n",
    "                       \"网下配售中签率\": \"prob_offline\", \"网下有效申购股数\": \"sub_size_offline\",\n",
    "                       \"网下有效申购户数\": \"subs_offline\",\"网下配售认购倍数\": \"over_offline\",\n",
    "                       \"总发行数量\": \"size_total\", \n",
    "                       \"开盘溢价\": \"list_premium\", \"首日涨幅\": \"return_firstday\", \n",
    "                       \"打新收益\": \"return_ipo\", \n",
    "                       \"上市日期\": \"list_date\", \"市场\": \"market\"\n",
    "                       }, inplace = True)\n",
    "# Filter by date: 2010-2019\n",
    "ipo_df['list_date'] = pd.to_datetime(ipo_df['list_date'])\n",
    "drop_idx = ipo_df[ipo_df['list_date'] > dt.datetime(2019, 12, 31)].index\n",
    "ipo_df.drop(drop_idx , inplace = True)"
   ]
  },
  {
   "cell_type": "markdown",
   "metadata": {},
   "source": [
    "After a quick view of the website, it seems that they have IPO data starting from year 2010. I will combine the three datasets, and change the column names in English. Since the datasets are frequently updated, we will focus on the decade of 2010-2019 only. The combined and cleaned data set has 1967 records, and the variables are described as follows.\n",
    "\n",
    "| Chinese          | English          | Description                                                                               |\n",
    "|:------------------|:------------------|:-------------------------------------------------------------------------------------------|\n",
    "| 股票代码         | ticker           | Ticker of the stock                                                                       |\n",
    "| 股票简称         | name             | Name of the company                                                                       |\n",
    "| 发行价           | price_issue      | Issue price (in CNY) of IPO, i.e. how much you pay per share before it goes public        |\n",
    "| 最新价           | price_latest     | Latest trading price (in CNY)                                                             |\n",
    "| 网上发行中签率   | prob_online      | Probability (in %) of successfully getting some IPO stocks, online application            |\n",
    "| 网上有效申购股数 | sub_size_online  | Number of shares requested by potential IPO buyers, online application                    |\n",
    "| 网上有效申购户数 | subs_online      | Number of potential IPO buyers, online application                                        |\n",
    "| 网上超额认购倍数 | over_online      | How many people are competing for one successful online application, i.e. 1/prob_online   |\n",
    "| 网下发行中签率   | prob_offline     | Probability (in %) of successfully getting some IPO stocks, offline application           |\n",
    "| 网下有效申购股数 | sub_size_offline | Number of shares requested by potential IPO buyers, offline application                   |\n",
    "| 网下有效申购户数 | subs_offline     | Number of potential IPO buyers, offline application                                       |\n",
    "| 网下超额认购倍数 | subs_offline     | How many people are competing for one successful offline application, i.e. 1/prob_offline |\n",
    "| 总发行数量       | size_total       | Total number of shares issued in IPO                                                      |\n",
    "| 开盘溢价         | list_premium     | Premium (in decimal) of first-day trading, i.e. (first-day price / IPO price) - 1         |\n",
    "| 首日涨幅         | return_firstday  | Price increase (in decimal) of first-day trading, i.e. (close/open) - 1 on the first day  |\n",
    "| 打新收益         | return_ipo       | Return on IPO (according to some formula by eastmoney)                                    |\n",
    "| 上市日期         | list_date        | Date of IPO                                                                               |\n",
    "| 市场             | market           | Market of IPO                                                                             |"
   ]
  }
 ],
 "metadata": {
  "kernelspec": {
   "display_name": "Python 3.8.5 32-bit",
   "language": "python",
   "name": "python38532bit3742f5a146024ad6a362f86c84c1277c"
  },
  "language_info": {
   "codemirror_mode": {
    "name": "ipython",
    "version": 3
   },
   "file_extension": ".py",
   "mimetype": "text/x-python",
   "name": "python",
   "nbconvert_exporter": "python",
   "pygments_lexer": "ipython3",
   "version": "3.8.5"
  }
 },
 "nbformat": 4,
 "nbformat_minor": 4
}